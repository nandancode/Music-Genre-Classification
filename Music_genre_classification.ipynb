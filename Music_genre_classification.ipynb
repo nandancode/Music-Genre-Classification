{
  "nbformat": 4,
  "nbformat_minor": 0,
  "metadata": {
    "colab": {
      "provenance": []
    },
    "kernelspec": {
      "name": "python3",
      "display_name": "Python 3"
    },
    "language_info": {
      "name": "python"
    },
    "gpuClass": "standard",
    "accelerator": "GPU"
  },
  "cells": [
    {
      "cell_type": "code",
      "execution_count": null,
      "metadata": {
        "id": "jUSh43GoWTlH"
      },
      "outputs": [],
      "source": [
        "import json\n",
        "import numpy as np\n",
        "from sklearn.model_selection import train_test_split\n",
        "import tensorflow.keras as keras\n",
        "\n",
        "import matplotlib.pyplot as plt\n",
        "import random\n",
        "\n",
        "import librosa\n",
        "import math"
      ]
    },
    {
      "cell_type": "code",
      "source": [
        "# path to json\n",
        "DATA_PATH = \"/content/drive/MyDrive/datasets/Data/genres_original/data_10.json\""
      ],
      "metadata": {
        "id": "opuXWXr6WpVs"
      },
      "execution_count": null,
      "outputs": []
    },
    {
      "cell_type": "code",
      "source": [
        "\n",
        "def load_data(data_path):\n",
        "\n",
        "    with open(data_path, \"r\") as f:\n",
        "        data = json.load(f)\n",
        "\n",
        "    # convert lists to numpy arrays\n",
        "    X = np.array(data[\"mfcc\"])\n",
        "    y = np.array(data[\"labels\"])\n",
        "\n",
        "    print(\"Data succesfully loaded!\")\n",
        "\n",
        "    return  X, y\n"
      ],
      "metadata": {
        "id": "MvZOUi4JYvTY"
      },
      "execution_count": null,
      "outputs": []
    },
    {
      "cell_type": "code",
      "source": [
        "# load data\n",
        "X, y = load_data(DATA_PATH)"
      ],
      "metadata": {
        "colab": {
          "base_uri": "https://localhost:8080/"
        },
        "id": "SfHwv0MmYyP4",
        "outputId": "9858bbc6-1405-4077-8a08-11b8ac674fa1"
      },
      "execution_count": null,
      "outputs": [
        {
          "output_type": "stream",
          "name": "stdout",
          "text": [
            "Data succesfully loaded!\n"
          ]
        }
      ]
    },
    {
      "cell_type": "code",
      "source": [
        "\n",
        "X.shape\n"
      ],
      "metadata": {
        "colab": {
          "base_uri": "https://localhost:8080/"
        },
        "id": "JSn95lvHY1r5",
        "outputId": "4f1f20b6-19a8-43f9-e352-a525a6271b69"
      },
      "execution_count": null,
      "outputs": [
        {
          "output_type": "execute_result",
          "data": {
            "text/plain": [
              "(9996, 130, 13)"
            ]
          },
          "metadata": {},
          "execution_count": 5
        }
      ]
    },
    {
      "cell_type": "code",
      "source": [
        "# create train/test split\n",
        "X_train, X_test, y_train, y_test = train_test_split(X, y, test_size=0.3)"
      ],
      "metadata": {
        "id": "mWk5CZjfZaLL"
      },
      "execution_count": null,
      "outputs": []
    },
    {
      "cell_type": "markdown",
      "source": [
        "Simple ANN\n"
      ],
      "metadata": {
        "id": "egwb5SwTZwwP"
      }
    },
    {
      "cell_type": "code",
      "source": [
        "# build network topology\n",
        "model = keras.Sequential([\n",
        "\n",
        "    # input layer\n",
        "    keras.layers.Flatten(input_shape=(X.shape[1], X.shape[2])),\n",
        "\n",
        "    # 1st dense layer\n",
        "    keras.layers.Dense(512, activation='relu'),\n",
        "\n",
        "    # 2nd dense layer\n",
        "    keras.layers.Dense(256, activation='relu'),\n",
        "\n",
        "    # 3rd dense layer\n",
        "    keras.layers.Dense(64, activation='relu'),\n",
        "\n",
        "    # output layer\n",
        "    keras.layers.Dense(10, activation='softmax')\n",
        "])\n"
      ],
      "metadata": {
        "id": "CVUfQHwwZymD"
      },
      "execution_count": null,
      "outputs": []
    },
    {
      "cell_type": "code",
      "source": [
        "# compile model\n",
        "optimiser = keras.optimizers.Adam(learning_rate=0.001)\n",
        "model.compile(optimizer=optimiser,\n",
        "              loss='sparse_categorical_crossentropy',\n",
        "              metrics=['accuracy'])\n"
      ],
      "metadata": {
        "id": "og6-9wwpZ1Mi"
      },
      "execution_count": null,
      "outputs": []
    },
    {
      "cell_type": "code",
      "source": [
        "model.summary()\n"
      ],
      "metadata": {
        "colab": {
          "base_uri": "https://localhost:8080/"
        },
        "id": "g99MOv0wZ4q2",
        "outputId": "efc19892-ce0b-47e5-9132-a7bdffe27c1d"
      },
      "execution_count": null,
      "outputs": [
        {
          "output_type": "stream",
          "name": "stdout",
          "text": [
            "Model: \"sequential_3\"\n",
            "_________________________________________________________________\n",
            " Layer (type)                Output Shape              Param #   \n",
            "=================================================================\n",
            " flatten_3 (Flatten)         (None, 1690)              0         \n",
            "                                                                 \n",
            " dense_12 (Dense)            (None, 512)               865792    \n",
            "                                                                 \n",
            " dense_13 (Dense)            (None, 256)               131328    \n",
            "                                                                 \n",
            " dense_14 (Dense)            (None, 64)                16448     \n",
            "                                                                 \n",
            " dense_15 (Dense)            (None, 10)                650       \n",
            "                                                                 \n",
            "=================================================================\n",
            "Total params: 1,014,218\n",
            "Trainable params: 1,014,218\n",
            "Non-trainable params: 0\n",
            "_________________________________________________________________\n"
          ]
        }
      ]
    },
    {
      "cell_type": "code",
      "source": [
        "\n",
        "# train model\n",
        "history = model.fit(X_train, y_train, validation_data=(X_test, y_test), batch_size=32, epochs=50)\n"
      ],
      "metadata": {
        "colab": {
          "base_uri": "https://localhost:8080/"
        },
        "id": "ETYX2EA5Z7Aa",
        "outputId": "1f59d389-78b2-494f-b345-1c48491ed95e"
      },
      "execution_count": null,
      "outputs": [
        {
          "output_type": "stream",
          "name": "stdout",
          "text": [
            "Epoch 1/50\n",
            "219/219 [==============================] - 3s 12ms/step - loss: 6.8499 - accuracy: 0.2918 - val_loss: 2.1090 - val_accuracy: 0.3128\n",
            "Epoch 2/50\n",
            "219/219 [==============================] - 2s 11ms/step - loss: 1.9207 - accuracy: 0.3440 - val_loss: 1.9392 - val_accuracy: 0.3531\n",
            "Epoch 3/50\n",
            "219/219 [==============================] - 2s 11ms/step - loss: 1.7392 - accuracy: 0.3846 - val_loss: 1.9027 - val_accuracy: 0.3758\n",
            "Epoch 4/50\n",
            "219/219 [==============================] - 3s 15ms/step - loss: 1.6259 - accuracy: 0.4112 - val_loss: 1.8801 - val_accuracy: 0.3875\n",
            "Epoch 5/50\n",
            "219/219 [==============================] - 2s 11ms/step - loss: 1.5547 - accuracy: 0.4290 - val_loss: 1.8240 - val_accuracy: 0.4018\n",
            "Epoch 6/50\n",
            "219/219 [==============================] - 2s 11ms/step - loss: 1.5095 - accuracy: 0.4493 - val_loss: 1.8251 - val_accuracy: 0.4095\n",
            "Epoch 7/50\n",
            "219/219 [==============================] - 2s 11ms/step - loss: 1.4324 - accuracy: 0.4813 - val_loss: 1.8256 - val_accuracy: 0.4281\n",
            "Epoch 8/50\n",
            "219/219 [==============================] - 2s 11ms/step - loss: 1.3820 - accuracy: 0.4931 - val_loss: 1.7738 - val_accuracy: 0.4191\n",
            "Epoch 9/50\n",
            "219/219 [==============================] - 3s 15ms/step - loss: 1.3341 - accuracy: 0.5088 - val_loss: 1.8215 - val_accuracy: 0.4361\n",
            "Epoch 10/50\n",
            "219/219 [==============================] - 2s 11ms/step - loss: 1.2597 - accuracy: 0.5317 - val_loss: 1.8315 - val_accuracy: 0.4218\n",
            "Epoch 11/50\n",
            "219/219 [==============================] - 2s 11ms/step - loss: 1.2434 - accuracy: 0.5414 - val_loss: 1.8424 - val_accuracy: 0.4275\n",
            "Epoch 12/50\n",
            "219/219 [==============================] - 2s 11ms/step - loss: 1.2074 - accuracy: 0.5595 - val_loss: 1.8493 - val_accuracy: 0.4692\n",
            "Epoch 13/50\n",
            "219/219 [==============================] - 2s 11ms/step - loss: 1.1638 - accuracy: 0.5672 - val_loss: 1.8505 - val_accuracy: 0.4662\n",
            "Epoch 14/50\n",
            "219/219 [==============================] - 3s 14ms/step - loss: 1.1253 - accuracy: 0.5893 - val_loss: 1.7687 - val_accuracy: 0.4522\n",
            "Epoch 15/50\n",
            "219/219 [==============================] - 2s 11ms/step - loss: 1.0672 - accuracy: 0.6080 - val_loss: 1.8674 - val_accuracy: 0.4468\n",
            "Epoch 16/50\n",
            "219/219 [==============================] - 2s 11ms/step - loss: 1.0399 - accuracy: 0.6118 - val_loss: 1.7225 - val_accuracy: 0.4665\n",
            "Epoch 17/50\n",
            "219/219 [==============================] - 2s 11ms/step - loss: 0.9855 - accuracy: 0.6324 - val_loss: 1.8202 - val_accuracy: 0.4725\n",
            "Epoch 18/50\n",
            "219/219 [==============================] - 2s 11ms/step - loss: 0.9380 - accuracy: 0.6474 - val_loss: 1.8231 - val_accuracy: 0.5072\n",
            "Epoch 19/50\n",
            "219/219 [==============================] - 3s 15ms/step - loss: 0.8808 - accuracy: 0.6719 - val_loss: 1.7421 - val_accuracy: 0.4928\n",
            "Epoch 20/50\n",
            "219/219 [==============================] - 2s 11ms/step - loss: 0.8911 - accuracy: 0.6710 - val_loss: 1.8798 - val_accuracy: 0.4998\n",
            "Epoch 21/50\n",
            "219/219 [==============================] - 2s 11ms/step - loss: 0.8329 - accuracy: 0.6902 - val_loss: 1.8661 - val_accuracy: 0.5245\n",
            "Epoch 22/50\n",
            "219/219 [==============================] - 2s 11ms/step - loss: 0.7758 - accuracy: 0.7137 - val_loss: 1.8647 - val_accuracy: 0.5055\n",
            "Epoch 23/50\n",
            "219/219 [==============================] - 2s 11ms/step - loss: 0.7607 - accuracy: 0.7232 - val_loss: 1.8436 - val_accuracy: 0.5248\n",
            "Epoch 24/50\n",
            "219/219 [==============================] - 3s 13ms/step - loss: 0.6963 - accuracy: 0.7473 - val_loss: 1.9494 - val_accuracy: 0.5285\n",
            "Epoch 25/50\n",
            "219/219 [==============================] - 3s 12ms/step - loss: 0.6594 - accuracy: 0.7608 - val_loss: 1.9921 - val_accuracy: 0.5175\n",
            "Epoch 26/50\n",
            "219/219 [==============================] - 2s 11ms/step - loss: 0.6705 - accuracy: 0.7568 - val_loss: 1.9716 - val_accuracy: 0.4968\n",
            "Epoch 27/50\n",
            "219/219 [==============================] - 2s 11ms/step - loss: 0.5964 - accuracy: 0.7825 - val_loss: 1.9817 - val_accuracy: 0.5509\n",
            "Epoch 28/50\n",
            "219/219 [==============================] - 2s 11ms/step - loss: 0.6022 - accuracy: 0.7815 - val_loss: 1.9727 - val_accuracy: 0.5455\n",
            "Epoch 29/50\n",
            "219/219 [==============================] - 3s 14ms/step - loss: 0.5107 - accuracy: 0.8145 - val_loss: 2.0360 - val_accuracy: 0.5388\n",
            "Epoch 30/50\n",
            "219/219 [==============================] - 3s 12ms/step - loss: 0.5582 - accuracy: 0.8016 - val_loss: 2.0804 - val_accuracy: 0.5452\n",
            "Epoch 31/50\n",
            "219/219 [==============================] - 2s 11ms/step - loss: 0.4542 - accuracy: 0.8364 - val_loss: 2.0858 - val_accuracy: 0.5515\n",
            "Epoch 32/50\n",
            "219/219 [==============================] - 2s 11ms/step - loss: 0.4488 - accuracy: 0.8361 - val_loss: 2.0429 - val_accuracy: 0.5505\n",
            "Epoch 33/50\n",
            "219/219 [==============================] - 2s 11ms/step - loss: 0.4218 - accuracy: 0.8511 - val_loss: 2.1001 - val_accuracy: 0.5472\n",
            "Epoch 34/50\n",
            "219/219 [==============================] - 3s 14ms/step - loss: 0.4370 - accuracy: 0.8418 - val_loss: 2.0973 - val_accuracy: 0.5542\n",
            "Epoch 35/50\n",
            "219/219 [==============================] - 3s 12ms/step - loss: 0.4014 - accuracy: 0.8567 - val_loss: 2.1120 - val_accuracy: 0.5685\n",
            "Epoch 36/50\n",
            "219/219 [==============================] - 2s 11ms/step - loss: 0.3577 - accuracy: 0.8789 - val_loss: 2.0698 - val_accuracy: 0.5722\n",
            "Epoch 37/50\n",
            "219/219 [==============================] - 2s 11ms/step - loss: 0.3151 - accuracy: 0.8871 - val_loss: 2.2192 - val_accuracy: 0.5692\n",
            "Epoch 38/50\n",
            "219/219 [==============================] - 2s 11ms/step - loss: 0.3559 - accuracy: 0.8742 - val_loss: 2.0561 - val_accuracy: 0.5619\n",
            "Epoch 39/50\n",
            "219/219 [==============================] - 3s 13ms/step - loss: 0.3147 - accuracy: 0.8892 - val_loss: 2.2417 - val_accuracy: 0.5619\n",
            "Epoch 40/50\n",
            "219/219 [==============================] - 3s 13ms/step - loss: 0.3204 - accuracy: 0.8878 - val_loss: 2.2117 - val_accuracy: 0.5765\n",
            "Epoch 41/50\n",
            "219/219 [==============================] - 2s 11ms/step - loss: 0.2877 - accuracy: 0.8994 - val_loss: 2.1719 - val_accuracy: 0.5819\n",
            "Epoch 42/50\n",
            "219/219 [==============================] - 2s 11ms/step - loss: 0.3053 - accuracy: 0.8961 - val_loss: 2.3453 - val_accuracy: 0.5272\n",
            "Epoch 43/50\n",
            "219/219 [==============================] - 2s 11ms/step - loss: 0.3372 - accuracy: 0.8799 - val_loss: 2.2773 - val_accuracy: 0.5832\n",
            "Epoch 44/50\n",
            "219/219 [==============================] - 3s 14ms/step - loss: 0.2249 - accuracy: 0.9233 - val_loss: 2.3385 - val_accuracy: 0.5739\n",
            "Epoch 45/50\n",
            "219/219 [==============================] - 3s 13ms/step - loss: 0.2318 - accuracy: 0.9224 - val_loss: 2.3004 - val_accuracy: 0.5859\n",
            "Epoch 46/50\n",
            "219/219 [==============================] - 2s 11ms/step - loss: 0.2115 - accuracy: 0.9307 - val_loss: 2.3136 - val_accuracy: 0.5932\n",
            "Epoch 47/50\n",
            "219/219 [==============================] - 2s 11ms/step - loss: 0.1818 - accuracy: 0.9368 - val_loss: 2.5273 - val_accuracy: 0.5532\n",
            "Epoch 48/50\n",
            "219/219 [==============================] - 2s 11ms/step - loss: 0.2490 - accuracy: 0.9121 - val_loss: 2.4586 - val_accuracy: 0.5672\n",
            "Epoch 49/50\n",
            "219/219 [==============================] - 3s 13ms/step - loss: 0.1945 - accuracy: 0.9304 - val_loss: 2.5416 - val_accuracy: 0.5782\n",
            "Epoch 50/50\n",
            "219/219 [==============================] - 3s 13ms/step - loss: 0.2005 - accuracy: 0.9275 - val_loss: 2.5080 - val_accuracy: 0.5722\n"
          ]
        }
      ]
    },
    {
      "cell_type": "code",
      "source": [
        "\n",
        "def plot_history(history):\n",
        "\n",
        "    fig, axs = plt.subplots(2)\n",
        "\n",
        "    # create accuracy sublpot\n",
        "    axs[0].plot(history.history[\"accuracy\"], label=\"train accuracy\")\n",
        "    axs[0].plot(history.history[\"val_accuracy\"], label=\"test accuracy\")\n",
        "    axs[0].set_ylabel(\"Accuracy\")\n",
        "    axs[0].legend(loc=\"lower right\")\n",
        "    axs[0].set_title(\"Accuracy eval\")\n",
        "\n",
        "    # create error sublpot\n",
        "    axs[1].plot(history.history[\"loss\"], label=\"train error\")\n",
        "    axs[1].plot(history.history[\"val_loss\"], label=\"test error\")\n",
        "    axs[1].set_ylabel(\"Error\")\n",
        "    axs[1].set_xlabel(\"Epoch\")\n",
        "    axs[1].legend(loc=\"upper right\")\n",
        "    axs[1].set_title(\"Error eval\")\n",
        "\n",
        "    fig.tight_layout()\n",
        "    #plt.show()"
      ],
      "metadata": {
        "id": "yTprVdP_Z-PR"
      },
      "execution_count": null,
      "outputs": []
    },
    {
      "cell_type": "code",
      "source": [
        "# plot accuracy and error as a function of the epochs\n",
        "plot_history(history)\n",
        "\n"
      ],
      "metadata": {
        "colab": {
          "base_uri": "https://localhost:8080/",
          "height": 486
        },
        "id": "1iNGvlRXbg-V",
        "outputId": "f0b54368-7187-4442-bc4b-a21fd53ccf8c"
      },
      "execution_count": null,
      "outputs": [
        {
          "output_type": "display_data",
          "data": {
            "text/plain": [
              "<Figure size 640x480 with 2 Axes>"
            ],
            "image/png": "[encoded data removed]"
          },
          "metadata": {}
        }
      ]
    },
    {
      "cell_type": "markdown",
      "source": [
        "Managing overfitting"
      ],
      "metadata": {
        "id": "XqUOwfwCbn6V"
      }
    },
    {
      "cell_type": "code",
      "source": [
        "# build network topology\n",
        "model_regularized = keras.Sequential([\n",
        "\n",
        "    # input layer\n",
        "    keras.layers.Flatten(input_shape=(X.shape[1], X.shape[2])),\n",
        "\n",
        "    # 1st dense layer\n",
        "    keras.layers.Dense(512, activation='relu', kernel_regularizer=keras.regularizers.l2(0.001)),\n",
        "    keras.layers.Dropout(0.3),\n",
        "\n",
        "    # 2nd dense layer\n",
        "    keras.layers.Dense(256, activation='relu', kernel_regularizer=keras.regularizers.l2(0.001)),\n",
        "    keras.layers.Dropout(0.3),\n",
        "\n",
        "    # 3rd dense layer\n",
        "    keras.layers.Dense(64, activation='relu', kernel_regularizer=keras.regularizers.l2(0.001)),\n",
        "    keras.layers.Dropout(0.3),\n",
        "\n",
        "    # output layer\n",
        "    keras.layers.Dense(10, activation='softmax')\n",
        "])"
      ],
      "metadata": {
        "id": "_nuxCPMgbkFf"
      },
      "execution_count": null,
      "outputs": []
    },
    {
      "cell_type": "code",
      "source": [
        "# compile model\n",
        "optimiser = keras.optimizers.Adam(learning_rate=0.0001)\n",
        "model_regularized.compile(optimizer=optimiser,\n",
        "              loss='sparse_categorical_crossentropy',\n",
        "              metrics=['accuracy'])"
      ],
      "metadata": {
        "id": "CuyEW57dbtxL"
      },
      "execution_count": null,
      "outputs": []
    },
    {
      "cell_type": "code",
      "source": [
        "# train model\n",
        "history = model_regularized.fit(X_train, y_train, validation_data=(X_test, y_test), batch_size=32, epochs=100)"
      ],
      "metadata": {
        "colab": {
          "base_uri": "https://localhost:8080/"
        },
        "id": "SGsUrH2vb2sL",
        "outputId": "7c8e712a-484d-482c-8ade-11e40a31b550"
      },
      "execution_count": null,
      "outputs": [
        {
          "output_type": "stream",
          "name": "stdout",
          "text": [
            "Epoch 1/100\n",
            "219/219 [==============================] - 4s 7ms/step - loss: 24.2487 - accuracy: 0.1586 - val_loss: 3.6041 - val_accuracy: 0.1864\n",
            "Epoch 2/100\n",
            "219/219 [==============================] - 1s 4ms/step - loss: 6.6921 - accuracy: 0.1538 - val_loss: 3.4833 - val_accuracy: 0.1350\n",
            "Epoch 3/100\n",
            "219/219 [==============================] - 1s 5ms/step - loss: 4.5700 - accuracy: 0.1319 - val_loss: 3.4898 - val_accuracy: 0.1267\n",
            "Epoch 4/100\n",
            "219/219 [==============================] - 1s 4ms/step - loss: 4.0203 - accuracy: 0.1353 - val_loss: 3.4824 - val_accuracy: 0.1294\n",
            "Epoch 5/100\n",
            "219/219 [==============================] - 1s 5ms/step - loss: 3.7811 - accuracy: 0.1389 - val_loss: 3.4478 - val_accuracy: 0.1464\n",
            "Epoch 6/100\n",
            "219/219 [==============================] - 1s 5ms/step - loss: 3.6541 - accuracy: 0.1448 - val_loss: 3.4536 - val_accuracy: 0.1384\n",
            "Epoch 7/100\n",
            "219/219 [==============================] - 1s 5ms/step - loss: 3.5806 - accuracy: 0.1506 - val_loss: 3.4356 - val_accuracy: 0.1501\n",
            "Epoch 8/100\n",
            "219/219 [==============================] - 1s 5ms/step - loss: 3.5263 - accuracy: 0.1462 - val_loss: 3.4213 - val_accuracy: 0.1511\n",
            "Epoch 9/100\n",
            "219/219 [==============================] - 1s 4ms/step - loss: 3.4735 - accuracy: 0.1574 - val_loss: 3.3935 - val_accuracy: 0.1637\n",
            "Epoch 10/100\n",
            "219/219 [==============================] - 1s 5ms/step - loss: 3.4361 - accuracy: 0.1639 - val_loss: 3.3651 - val_accuracy: 0.1711\n",
            "Epoch 11/100\n",
            "219/219 [==============================] - 1s 5ms/step - loss: 3.3967 - accuracy: 0.1671 - val_loss: 3.3255 - val_accuracy: 0.1827\n",
            "Epoch 12/100\n",
            "219/219 [==============================] - 1s 6ms/step - loss: 3.3764 - accuracy: 0.1806 - val_loss: 3.2920 - val_accuracy: 0.1914\n",
            "Epoch 13/100\n",
            "219/219 [==============================] - 1s 6ms/step - loss: 3.3441 - accuracy: 0.1879 - val_loss: 3.2663 - val_accuracy: 0.1907\n",
            "Epoch 14/100\n",
            "219/219 [==============================] - 1s 5ms/step - loss: 3.2970 - accuracy: 0.2255 - val_loss: 3.2084 - val_accuracy: 0.2504\n",
            "Epoch 15/100\n",
            "219/219 [==============================] - 1s 5ms/step - loss: 3.2479 - accuracy: 0.2472 - val_loss: 3.0556 - val_accuracy: 0.3111\n",
            "Epoch 16/100\n",
            "219/219 [==============================] - 1s 5ms/step - loss: 3.2054 - accuracy: 0.2630 - val_loss: 3.0402 - val_accuracy: 0.3071\n",
            "Epoch 17/100\n",
            "219/219 [==============================] - 1s 5ms/step - loss: 3.1707 - accuracy: 0.2713 - val_loss: 3.0480 - val_accuracy: 0.3104\n",
            "Epoch 18/100\n",
            "219/219 [==============================] - 1s 5ms/step - loss: 3.1492 - accuracy: 0.2788 - val_loss: 2.9696 - val_accuracy: 0.3301\n",
            "Epoch 19/100\n",
            "219/219 [==============================] - 1s 4ms/step - loss: 3.1314 - accuracy: 0.2805 - val_loss: 2.9978 - val_accuracy: 0.3198\n",
            "Epoch 20/100\n",
            "219/219 [==============================] - 1s 5ms/step - loss: 3.0704 - accuracy: 0.2888 - val_loss: 2.9567 - val_accuracy: 0.3194\n",
            "Epoch 21/100\n",
            "219/219 [==============================] - 1s 5ms/step - loss: 3.0222 - accuracy: 0.2980 - val_loss: 2.8990 - val_accuracy: 0.3458\n",
            "Epoch 22/100\n",
            "219/219 [==============================] - 1s 5ms/step - loss: 3.0019 - accuracy: 0.3003 - val_loss: 2.8724 - val_accuracy: 0.3468\n",
            "Epoch 23/100\n",
            "219/219 [==============================] - 1s 5ms/step - loss: 2.9809 - accuracy: 0.3074 - val_loss: 2.8503 - val_accuracy: 0.3451\n",
            "Epoch 24/100\n",
            "219/219 [==============================] - 1s 6ms/step - loss: 2.9429 - accuracy: 0.3094 - val_loss: 2.8545 - val_accuracy: 0.3498\n",
            "Epoch 25/100\n",
            "219/219 [==============================] - 1s 6ms/step - loss: 2.9160 - accuracy: 0.3110 - val_loss: 2.8107 - val_accuracy: 0.3618\n",
            "Epoch 26/100\n",
            "219/219 [==============================] - 1s 5ms/step - loss: 2.8797 - accuracy: 0.3207 - val_loss: 2.7617 - val_accuracy: 0.3785\n",
            "Epoch 27/100\n",
            "219/219 [==============================] - 1s 4ms/step - loss: 2.8309 - accuracy: 0.3300 - val_loss: 2.7271 - val_accuracy: 0.3725\n",
            "Epoch 28/100\n",
            "219/219 [==============================] - 1s 4ms/step - loss: 2.8085 - accuracy: 0.3330 - val_loss: 2.7138 - val_accuracy: 0.3755\n",
            "Epoch 29/100\n",
            "219/219 [==============================] - 1s 4ms/step - loss: 2.8028 - accuracy: 0.3366 - val_loss: 2.6802 - val_accuracy: 0.3751\n",
            "Epoch 30/100\n",
            "219/219 [==============================] - 1s 5ms/step - loss: 2.7305 - accuracy: 0.3393 - val_loss: 2.6772 - val_accuracy: 0.3981\n",
            "Epoch 31/100\n",
            "219/219 [==============================] - 1s 4ms/step - loss: 2.7078 - accuracy: 0.3403 - val_loss: 2.6111 - val_accuracy: 0.3981\n",
            "Epoch 32/100\n",
            "219/219 [==============================] - 1s 5ms/step - loss: 2.6868 - accuracy: 0.3451 - val_loss: 2.6212 - val_accuracy: 0.3785\n",
            "Epoch 33/100\n",
            "219/219 [==============================] - 1s 4ms/step - loss: 2.6353 - accuracy: 0.3606 - val_loss: 2.5626 - val_accuracy: 0.3955\n",
            "Epoch 34/100\n",
            "219/219 [==============================] - 1s 4ms/step - loss: 2.5962 - accuracy: 0.3629 - val_loss: 2.5305 - val_accuracy: 0.4145\n",
            "Epoch 35/100\n",
            "219/219 [==============================] - 1s 5ms/step - loss: 2.5517 - accuracy: 0.3733 - val_loss: 2.4929 - val_accuracy: 0.4028\n",
            "Epoch 36/100\n",
            "219/219 [==============================] - 1s 6ms/step - loss: 2.5311 - accuracy: 0.3709 - val_loss: 2.4661 - val_accuracy: 0.4251\n",
            "Epoch 37/100\n",
            "219/219 [==============================] - 1s 6ms/step - loss: 2.4897 - accuracy: 0.3792 - val_loss: 2.4527 - val_accuracy: 0.4205\n",
            "Epoch 38/100\n",
            "219/219 [==============================] - 1s 6ms/step - loss: 2.4684 - accuracy: 0.3803 - val_loss: 2.4280 - val_accuracy: 0.4221\n",
            "Epoch 39/100\n",
            "219/219 [==============================] - 1s 5ms/step - loss: 2.4307 - accuracy: 0.3863 - val_loss: 2.3967 - val_accuracy: 0.4265\n",
            "Epoch 40/100\n",
            "219/219 [==============================] - 1s 5ms/step - loss: 2.3993 - accuracy: 0.3915 - val_loss: 2.3516 - val_accuracy: 0.4428\n",
            "Epoch 41/100\n",
            "219/219 [==============================] - 1s 4ms/step - loss: 2.3748 - accuracy: 0.3987 - val_loss: 2.3291 - val_accuracy: 0.4421\n",
            "Epoch 42/100\n",
            "219/219 [==============================] - 1s 4ms/step - loss: 2.3407 - accuracy: 0.4009 - val_loss: 2.3159 - val_accuracy: 0.4361\n",
            "Epoch 43/100\n",
            "219/219 [==============================] - 1s 5ms/step - loss: 2.3011 - accuracy: 0.4159 - val_loss: 2.2871 - val_accuracy: 0.4525\n",
            "Epoch 44/100\n",
            "219/219 [==============================] - 1s 5ms/step - loss: 2.2689 - accuracy: 0.4122 - val_loss: 2.2505 - val_accuracy: 0.4508\n",
            "Epoch 45/100\n",
            "219/219 [==============================] - 1s 4ms/step - loss: 2.2393 - accuracy: 0.4245 - val_loss: 2.2539 - val_accuracy: 0.4582\n",
            "Epoch 46/100\n",
            "219/219 [==============================] - 1s 4ms/step - loss: 2.2129 - accuracy: 0.4240 - val_loss: 2.2168 - val_accuracy: 0.4568\n",
            "Epoch 47/100\n",
            "219/219 [==============================] - 1s 5ms/step - loss: 2.1900 - accuracy: 0.4293 - val_loss: 2.1839 - val_accuracy: 0.4605\n",
            "Epoch 48/100\n",
            "219/219 [==============================] - 1s 6ms/step - loss: 2.1558 - accuracy: 0.4322 - val_loss: 2.1697 - val_accuracy: 0.4805\n",
            "Epoch 49/100\n",
            "219/219 [==============================] - 1s 6ms/step - loss: 2.1112 - accuracy: 0.4531 - val_loss: 2.1555 - val_accuracy: 0.4722\n",
            "Epoch 50/100\n",
            "219/219 [==============================] - 1s 6ms/step - loss: 2.0923 - accuracy: 0.4518 - val_loss: 2.1613 - val_accuracy: 0.4852\n",
            "Epoch 51/100\n",
            "219/219 [==============================] - 1s 5ms/step - loss: 2.0708 - accuracy: 0.4625 - val_loss: 2.1091 - val_accuracy: 0.4852\n",
            "Epoch 52/100\n",
            "219/219 [==============================] - 1s 4ms/step - loss: 2.0354 - accuracy: 0.4646 - val_loss: 2.1185 - val_accuracy: 0.4995\n",
            "Epoch 53/100\n",
            "219/219 [==============================] - 1s 4ms/step - loss: 1.9985 - accuracy: 0.4729 - val_loss: 2.0500 - val_accuracy: 0.4922\n",
            "Epoch 54/100\n",
            "219/219 [==============================] - 1s 4ms/step - loss: 1.9841 - accuracy: 0.4803 - val_loss: 2.0651 - val_accuracy: 0.4848\n",
            "Epoch 55/100\n",
            "219/219 [==============================] - 1s 4ms/step - loss: 1.9731 - accuracy: 0.4812 - val_loss: 2.0214 - val_accuracy: 0.4898\n",
            "Epoch 56/100\n",
            "219/219 [==============================] - 1s 4ms/step - loss: 1.9210 - accuracy: 0.4908 - val_loss: 2.0267 - val_accuracy: 0.4848\n",
            "Epoch 57/100\n",
            "219/219 [==============================] - 1s 4ms/step - loss: 1.8824 - accuracy: 0.4954 - val_loss: 2.0244 - val_accuracy: 0.5032\n",
            "Epoch 58/100\n",
            "219/219 [==============================] - 1s 4ms/step - loss: 1.8802 - accuracy: 0.4981 - val_loss: 2.0109 - val_accuracy: 0.5045\n",
            "Epoch 59/100\n",
            "219/219 [==============================] - 1s 5ms/step - loss: 1.8351 - accuracy: 0.5081 - val_loss: 1.9870 - val_accuracy: 0.4892\n",
            "Epoch 60/100\n",
            "219/219 [==============================] - 1s 5ms/step - loss: 1.8163 - accuracy: 0.5192 - val_loss: 1.9443 - val_accuracy: 0.5212\n",
            "Epoch 61/100\n",
            "219/219 [==============================] - 1s 6ms/step - loss: 1.7928 - accuracy: 0.5185 - val_loss: 1.9698 - val_accuracy: 0.5152\n",
            "Epoch 62/100\n",
            "219/219 [==============================] - 1s 6ms/step - loss: 1.7781 - accuracy: 0.5175 - val_loss: 1.8999 - val_accuracy: 0.5268\n",
            "Epoch 63/100\n",
            "219/219 [==============================] - 1s 5ms/step - loss: 1.7584 - accuracy: 0.5267 - val_loss: 1.9190 - val_accuracy: 0.5088\n",
            "Epoch 64/100\n",
            "219/219 [==============================] - 1s 5ms/step - loss: 1.7186 - accuracy: 0.5394 - val_loss: 1.8623 - val_accuracy: 0.5302\n",
            "Epoch 65/100\n",
            "219/219 [==============================] - 1s 4ms/step - loss: 1.6991 - accuracy: 0.5407 - val_loss: 1.8902 - val_accuracy: 0.5192\n",
            "Epoch 66/100\n",
            "219/219 [==============================] - 1s 4ms/step - loss: 1.6749 - accuracy: 0.5478 - val_loss: 1.8868 - val_accuracy: 0.5295\n",
            "Epoch 67/100\n",
            "219/219 [==============================] - 1s 5ms/step - loss: 1.6655 - accuracy: 0.5495 - val_loss: 1.8635 - val_accuracy: 0.5235\n",
            "Epoch 68/100\n",
            "219/219 [==============================] - 1s 4ms/step - loss: 1.6208 - accuracy: 0.5635 - val_loss: 1.8460 - val_accuracy: 0.5382\n",
            "Epoch 69/100\n",
            "219/219 [==============================] - 1s 4ms/step - loss: 1.5978 - accuracy: 0.5702 - val_loss: 1.8362 - val_accuracy: 0.5435\n",
            "Epoch 70/100\n",
            "219/219 [==============================] - 1s 5ms/step - loss: 1.6102 - accuracy: 0.5718 - val_loss: 1.8795 - val_accuracy: 0.5338\n",
            "Epoch 71/100\n",
            "219/219 [==============================] - 1s 4ms/step - loss: 1.5880 - accuracy: 0.5748 - val_loss: 1.8378 - val_accuracy: 0.5368\n",
            "Epoch 72/100\n",
            "219/219 [==============================] - 1s 5ms/step - loss: 1.5446 - accuracy: 0.5875 - val_loss: 1.8476 - val_accuracy: 0.5365\n",
            "Epoch 73/100\n",
            "219/219 [==============================] - 1s 6ms/step - loss: 1.5477 - accuracy: 0.5751 - val_loss: 1.8350 - val_accuracy: 0.5385\n",
            "Epoch 74/100\n",
            "219/219 [==============================] - 1s 6ms/step - loss: 1.4926 - accuracy: 0.6045 - val_loss: 1.8512 - val_accuracy: 0.5458\n",
            "Epoch 75/100\n",
            "219/219 [==============================] - 1s 6ms/step - loss: 1.4833 - accuracy: 0.6015 - val_loss: 1.7945 - val_accuracy: 0.5488\n",
            "Epoch 76/100\n",
            "219/219 [==============================] - 1s 4ms/step - loss: 1.4723 - accuracy: 0.6078 - val_loss: 1.8024 - val_accuracy: 0.5362\n",
            "Epoch 77/100\n",
            "219/219 [==============================] - 1s 4ms/step - loss: 1.4575 - accuracy: 0.6050 - val_loss: 1.8716 - val_accuracy: 0.5445\n",
            "Epoch 78/100\n",
            "219/219 [==============================] - 1s 5ms/step - loss: 1.4531 - accuracy: 0.6115 - val_loss: 1.8506 - val_accuracy: 0.5509\n",
            "Epoch 79/100\n",
            "219/219 [==============================] - 1s 5ms/step - loss: 1.4365 - accuracy: 0.6170 - val_loss: 1.8325 - val_accuracy: 0.5482\n",
            "Epoch 80/100\n",
            "219/219 [==============================] - 1s 5ms/step - loss: 1.4025 - accuracy: 0.6278 - val_loss: 1.7905 - val_accuracy: 0.5509\n",
            "Epoch 81/100\n",
            "219/219 [==============================] - 1s 4ms/step - loss: 1.3867 - accuracy: 0.6277 - val_loss: 1.8787 - val_accuracy: 0.5525\n",
            "Epoch 82/100\n",
            "219/219 [==============================] - 1s 4ms/step - loss: 1.3563 - accuracy: 0.6408 - val_loss: 1.8293 - val_accuracy: 0.5599\n",
            "Epoch 83/100\n",
            "219/219 [==============================] - 1s 4ms/step - loss: 1.3732 - accuracy: 0.6337 - val_loss: 1.8008 - val_accuracy: 0.5488\n",
            "Epoch 84/100\n",
            "219/219 [==============================] - 1s 4ms/step - loss: 1.3323 - accuracy: 0.6454 - val_loss: 1.8522 - val_accuracy: 0.5615\n",
            "Epoch 85/100\n",
            "219/219 [==============================] - 1s 4ms/step - loss: 1.3314 - accuracy: 0.6474 - val_loss: 1.8759 - val_accuracy: 0.5515\n",
            "Epoch 86/100\n",
            "219/219 [==============================] - 1s 6ms/step - loss: 1.3260 - accuracy: 0.6478 - val_loss: 1.7601 - val_accuracy: 0.5539\n",
            "Epoch 87/100\n",
            "219/219 [==============================] - 1s 6ms/step - loss: 1.2801 - accuracy: 0.6640 - val_loss: 1.7590 - val_accuracy: 0.5659\n",
            "Epoch 88/100\n",
            "219/219 [==============================] - 1s 6ms/step - loss: 1.2715 - accuracy: 0.6687 - val_loss: 1.8309 - val_accuracy: 0.5392\n",
            "Epoch 89/100\n",
            "219/219 [==============================] - 1s 5ms/step - loss: 1.2523 - accuracy: 0.6716 - val_loss: 1.7918 - val_accuracy: 0.5575\n",
            "Epoch 90/100\n",
            "219/219 [==============================] - 1s 4ms/step - loss: 1.2468 - accuracy: 0.6687 - val_loss: 1.8303 - val_accuracy: 0.5592\n",
            "Epoch 91/100\n",
            "219/219 [==============================] - 1s 4ms/step - loss: 1.2510 - accuracy: 0.6697 - val_loss: 1.7741 - val_accuracy: 0.5645\n",
            "Epoch 92/100\n",
            "219/219 [==============================] - 1s 4ms/step - loss: 1.2330 - accuracy: 0.6661 - val_loss: 1.7696 - val_accuracy: 0.5695\n",
            "Epoch 93/100\n",
            "219/219 [==============================] - 1s 4ms/step - loss: 1.2307 - accuracy: 0.6826 - val_loss: 1.7531 - val_accuracy: 0.5742\n",
            "Epoch 94/100\n",
            "219/219 [==============================] - 1s 4ms/step - loss: 1.1975 - accuracy: 0.6889 - val_loss: 1.7902 - val_accuracy: 0.5665\n",
            "Epoch 95/100\n",
            "219/219 [==============================] - 1s 4ms/step - loss: 1.1822 - accuracy: 0.6853 - val_loss: 1.8638 - val_accuracy: 0.5639\n",
            "Epoch 96/100\n",
            "219/219 [==============================] - 1s 5ms/step - loss: 1.1818 - accuracy: 0.6920 - val_loss: 1.7548 - val_accuracy: 0.5819\n",
            "Epoch 97/100\n",
            "219/219 [==============================] - 1s 4ms/step - loss: 1.1354 - accuracy: 0.7060 - val_loss: 1.7447 - val_accuracy: 0.5869\n",
            "Epoch 98/100\n",
            "219/219 [==============================] - 1s 5ms/step - loss: 1.1709 - accuracy: 0.6972 - val_loss: 1.9383 - val_accuracy: 0.5592\n",
            "Epoch 99/100\n",
            "219/219 [==============================] - 1s 7ms/step - loss: 1.1447 - accuracy: 0.6990 - val_loss: 1.7905 - val_accuracy: 0.5789\n",
            "Epoch 100/100\n",
            "219/219 [==============================] - 1s 7ms/step - loss: 1.1130 - accuracy: 0.7133 - val_loss: 1.7437 - val_accuracy: 0.5839\n"
          ]
        }
      ]
    },
    {
      "cell_type": "code",
      "source": [
        "# plot accuracy and error as a function of the epochs\n",
        "plot_history(history)\n",
        "plt.savefig(\"Model-1 performance\")"
      ],
      "metadata": {
        "colab": {
          "base_uri": "https://localhost:8080/",
          "height": 486
        },
        "id": "ck24gDJib5qU",
        "outputId": "7fdd1a3c-3d73-42dd-9bb3-07825d7b9be5"
      },
      "execution_count": null,
      "outputs": [
        {
          "output_type": "display_data",
          "data": {
            "text/plain": [
              "<Figure size 640x480 with 2 Axes>"
            ],
            "image/png": "[encoded data removed]"
          },
          "metadata": {}
        }
      ]
    },
    {
      "cell_type": "markdown",
      "source": [
        "Convolutional neural network"
      ],
      "metadata": {
        "id": "1CiB55Ahd7mj"
      }
    },
    {
      "cell_type": "code",
      "source": [
        "# create train, validation and test split\n",
        "X_train, X_test, y_train, y_test = train_test_split(X, y, test_size=0.25)\n",
        "X_train, X_validation, y_train, y_validation = train_test_split(X_train, y_train, test_size=0.2)\n",
        "\n",
        "# add an axis to input sets\n",
        "X_train = X_train[..., np.newaxis]\n",
        "X_validation = X_validation[..., np.newaxis]\n",
        "X_test = X_test[..., np.newaxis]"
      ],
      "metadata": {
        "id": "SvimYHYId5Ai"
      },
      "execution_count": null,
      "outputs": []
    },
    {
      "cell_type": "code",
      "source": [
        "X_train.shape\n"
      ],
      "metadata": {
        "colab": {
          "base_uri": "https://localhost:8080/"
        },
        "id": "egCMeEoIeAcf",
        "outputId": "aad16b90-e1bb-4139-925e-37becbda93d0"
      },
      "execution_count": null,
      "outputs": [
        {
          "output_type": "execute_result",
          "data": {
            "text/plain": [
              "(5997, 130, 13, 1)"
            ]
          },
          "metadata": {},
          "execution_count": 19
        }
      ]
    },
    {
      "cell_type": "code",
      "source": [
        "input_shape = (X_train.shape[1], X_train.shape[2], 1)\n"
      ],
      "metadata": {
        "id": "lCqo-tZveCiq"
      },
      "execution_count": null,
      "outputs": []
    },
    {
      "cell_type": "code",
      "source": [
        "# build the CNN\n",
        "model_cnn = keras.Sequential()\n",
        "\n",
        "# 1st conv layer\n",
        "model_cnn.add(keras.layers.Conv2D(32, (3, 3), activation='relu', input_shape=input_shape))\n",
        "model_cnn.add(keras.layers.MaxPooling2D((3, 3), strides=(2, 2), padding='same'))\n",
        "model_cnn.add(keras.layers.BatchNormalization())\n",
        "\n",
        "# 2nd conv layer\n",
        "model_cnn.add(keras.layers.Conv2D(32, (3, 3), activation='relu'))\n",
        "model_cnn.add(keras.layers.MaxPooling2D((3, 3), strides=(2, 2), padding='same'))\n",
        "model_cnn.add(keras.layers.BatchNormalization())\n",
        "\n",
        "# 3rd conv layer\n",
        "model_cnn.add(keras.layers.Conv2D(32, (2, 2), activation='relu'))\n",
        "model_cnn.add(keras.layers.MaxPooling2D((2, 2), strides=(2, 2), padding='same'))\n",
        "model_cnn.add(keras.layers.BatchNormalization())\n",
        "\n",
        "# flatten output and feed it into dense layer\n",
        "model_cnn.add(keras.layers.Flatten())\n",
        "model_cnn.add(keras.layers.Dense(64, activation='relu'))\n",
        "model_cnn.add(keras.layers.Dropout(0.3))\n",
        "\n",
        "# output layer\n",
        "model_cnn.add(keras.layers.Dense(10, activation='softmax'))\n"
      ],
      "metadata": {
        "id": "WB6DLMGJeFlJ"
      },
      "execution_count": null,
      "outputs": []
    },
    {
      "cell_type": "code",
      "source": [
        "\n",
        "# compile model\n",
        "optimiser = keras.optimizers.Adam(learning_rate=0.0001)\n",
        "model_cnn.compile(optimizer=optimiser,\n",
        "              loss='sparse_categorical_crossentropy',\n",
        "              metrics=['accuracy'])\n"
      ],
      "metadata": {
        "id": "1qRtOgMAeIJO"
      },
      "execution_count": null,
      "outputs": []
    },
    {
      "cell_type": "code",
      "source": [
        "model_cnn.summary()\n"
      ],
      "metadata": {
        "colab": {
          "base_uri": "https://localhost:8080/"
        },
        "id": "y3RHahW5eKp2",
        "outputId": "37bae849-9eeb-424b-9da0-027f3d81cd16"
      },
      "execution_count": null,
      "outputs": [
        {
          "output_type": "stream",
          "name": "stdout",
          "text": [
            "Model: \"sequential_5\"\n",
            "_________________________________________________________________\n",
            " Layer (type)                Output Shape              Param #   \n",
            "=================================================================\n",
            " conv2d_9 (Conv2D)           (None, 128, 11, 32)       320       \n",
            "                                                                 \n",
            " max_pooling2d_9 (MaxPooling  (None, 64, 6, 32)        0         \n",
            " 2D)                                                             \n",
            "                                                                 \n",
            " batch_normalization_9 (Batc  (None, 64, 6, 32)        128       \n",
            " hNormalization)                                                 \n",
            "                                                                 \n",
            " conv2d_10 (Conv2D)          (None, 62, 4, 32)         9248      \n",
            "                                                                 \n",
            " max_pooling2d_10 (MaxPoolin  (None, 31, 2, 32)        0         \n",
            " g2D)                                                            \n",
            "                                                                 \n",
            " batch_normalization_10 (Bat  (None, 31, 2, 32)        128       \n",
            " chNormalization)                                                \n",
            "                                                                 \n",
            " conv2d_11 (Conv2D)          (None, 30, 1, 32)         4128      \n",
            "                                                                 \n",
            " max_pooling2d_11 (MaxPoolin  (None, 15, 1, 32)        0         \n",
            " g2D)                                                            \n",
            "                                                                 \n",
            " batch_normalization_11 (Bat  (None, 15, 1, 32)        128       \n",
            " chNormalization)                                                \n",
            "                                                                 \n",
            " flatten_5 (Flatten)         (None, 480)               0         \n",
            "                                                                 \n",
            " dense_14 (Dense)            (None, 64)                30784     \n",
            "                                                                 \n",
            " dropout_9 (Dropout)         (None, 64)                0         \n",
            "                                                                 \n",
            " dense_15 (Dense)            (None, 10)                650       \n",
            "                                                                 \n",
            "=================================================================\n",
            "Total params: 45,514\n",
            "Trainable params: 45,322\n",
            "Non-trainable params: 192\n",
            "_________________________________________________________________\n"
          ]
        }
      ]
    },
    {
      "cell_type": "code",
      "source": [
        "\n",
        "# train model\n",
        "history = model_cnn.fit(X_train, y_train, validation_data=(X_validation, y_validation), batch_size=32, epochs=50)"
      ],
      "metadata": {
        "colab": {
          "base_uri": "https://localhost:8080/"
        },
        "id": "TJ1UIZlgeNlC",
        "outputId": "422fa85b-14ce-4cfc-82d0-ec7298699d97"
      },
      "execution_count": null,
      "outputs": [
        {
          "output_type": "stream",
          "name": "stdout",
          "text": [
            "Epoch 1/50\n",
            "188/188 [==============================] - 4s 6ms/step - loss: 2.2789 - accuracy: 0.2516 - val_loss: 1.8013 - val_accuracy: 0.3627\n",
            "Epoch 2/50\n",
            "188/188 [==============================] - 1s 5ms/step - loss: 1.8280 - accuracy: 0.3615 - val_loss: 1.5513 - val_accuracy: 0.4273\n",
            "Epoch 3/50\n",
            "188/188 [==============================] - 1s 6ms/step - loss: 1.6459 - accuracy: 0.4187 - val_loss: 1.4336 - val_accuracy: 0.4827\n",
            "Epoch 4/50\n",
            "188/188 [==============================] - 1s 7ms/step - loss: 1.5323 - accuracy: 0.4651 - val_loss: 1.3633 - val_accuracy: 0.4940\n",
            "Epoch 5/50\n",
            "188/188 [==============================] - 1s 7ms/step - loss: 1.4347 - accuracy: 0.4944 - val_loss: 1.2847 - val_accuracy: 0.5273\n",
            "Epoch 6/50\n",
            "188/188 [==============================] - 1s 5ms/step - loss: 1.3737 - accuracy: 0.5084 - val_loss: 1.2346 - val_accuracy: 0.5553\n",
            "Epoch 7/50\n",
            "188/188 [==============================] - 1s 5ms/step - loss: 1.3119 - accuracy: 0.5306 - val_loss: 1.1901 - val_accuracy: 0.5580\n",
            "Epoch 8/50\n",
            "188/188 [==============================] - 1s 5ms/step - loss: 1.2706 - accuracy: 0.5481 - val_loss: 1.1621 - val_accuracy: 0.5767\n",
            "Epoch 9/50\n",
            "188/188 [==============================] - 1s 5ms/step - loss: 1.2091 - accuracy: 0.5648 - val_loss: 1.1384 - val_accuracy: 0.5847\n",
            "Epoch 10/50\n",
            "188/188 [==============================] - 1s 6ms/step - loss: 1.1637 - accuracy: 0.5933 - val_loss: 1.1058 - val_accuracy: 0.5867\n",
            "Epoch 11/50\n",
            "188/188 [==============================] - 1s 5ms/step - loss: 1.1405 - accuracy: 0.5970 - val_loss: 1.0994 - val_accuracy: 0.5893\n",
            "Epoch 12/50\n",
            "188/188 [==============================] - 1s 5ms/step - loss: 1.1069 - accuracy: 0.6065 - val_loss: 1.0604 - val_accuracy: 0.6140\n",
            "Epoch 13/50\n",
            "188/188 [==============================] - 1s 5ms/step - loss: 1.0694 - accuracy: 0.6163 - val_loss: 1.0596 - val_accuracy: 0.6140\n",
            "Epoch 14/50\n",
            "188/188 [==============================] - 1s 5ms/step - loss: 1.0216 - accuracy: 0.6402 - val_loss: 1.0448 - val_accuracy: 0.6253\n",
            "Epoch 15/50\n",
            "188/188 [==============================] - 1s 5ms/step - loss: 1.0118 - accuracy: 0.6448 - val_loss: 1.0287 - val_accuracy: 0.6220\n",
            "Epoch 16/50\n",
            "188/188 [==============================] - 1s 7ms/step - loss: 0.9748 - accuracy: 0.6555 - val_loss: 0.9935 - val_accuracy: 0.6393\n",
            "Epoch 17/50\n",
            "188/188 [==============================] - 1s 7ms/step - loss: 0.9564 - accuracy: 0.6660 - val_loss: 1.0222 - val_accuracy: 0.6433\n",
            "Epoch 18/50\n",
            "188/188 [==============================] - 1s 6ms/step - loss: 0.9411 - accuracy: 0.6692 - val_loss: 0.9918 - val_accuracy: 0.6380\n",
            "Epoch 19/50\n",
            "188/188 [==============================] - 1s 5ms/step - loss: 0.9179 - accuracy: 0.6762 - val_loss: 0.9721 - val_accuracy: 0.6553\n",
            "Epoch 20/50\n",
            "188/188 [==============================] - 1s 5ms/step - loss: 0.8874 - accuracy: 0.6908 - val_loss: 0.9611 - val_accuracy: 0.6420\n",
            "Epoch 21/50\n",
            "188/188 [==============================] - 1s 5ms/step - loss: 0.8664 - accuracy: 0.6908 - val_loss: 0.9342 - val_accuracy: 0.6500\n",
            "Epoch 22/50\n",
            "188/188 [==============================] - 1s 5ms/step - loss: 0.8447 - accuracy: 0.7035 - val_loss: 0.9079 - val_accuracy: 0.6587\n",
            "Epoch 23/50\n",
            "188/188 [==============================] - 1s 5ms/step - loss: 0.8315 - accuracy: 0.7072 - val_loss: 0.9312 - val_accuracy: 0.6647\n",
            "Epoch 24/50\n",
            "188/188 [==============================] - 1s 5ms/step - loss: 0.8120 - accuracy: 0.7120 - val_loss: 0.9446 - val_accuracy: 0.6567\n",
            "Epoch 25/50\n",
            "188/188 [==============================] - 1s 5ms/step - loss: 0.8033 - accuracy: 0.7207 - val_loss: 0.9088 - val_accuracy: 0.6687\n",
            "Epoch 26/50\n",
            "188/188 [==============================] - 1s 5ms/step - loss: 0.7818 - accuracy: 0.7319 - val_loss: 0.8697 - val_accuracy: 0.6813\n",
            "Epoch 27/50\n",
            "188/188 [==============================] - 1s 5ms/step - loss: 0.7671 - accuracy: 0.7284 - val_loss: 0.8798 - val_accuracy: 0.6840\n",
            "Epoch 28/50\n",
            "188/188 [==============================] - 1s 6ms/step - loss: 0.7478 - accuracy: 0.7482 - val_loss: 0.8709 - val_accuracy: 0.6807\n",
            "Epoch 29/50\n",
            "188/188 [==============================] - 2s 8ms/step - loss: 0.7184 - accuracy: 0.7535 - val_loss: 0.8899 - val_accuracy: 0.6827\n",
            "Epoch 30/50\n",
            "188/188 [==============================] - 1s 7ms/step - loss: 0.7314 - accuracy: 0.7520 - val_loss: 0.8612 - val_accuracy: 0.6900\n",
            "Epoch 31/50\n",
            "188/188 [==============================] - 1s 5ms/step - loss: 0.7045 - accuracy: 0.7577 - val_loss: 0.8508 - val_accuracy: 0.6973\n",
            "Epoch 32/50\n",
            "188/188 [==============================] - 1s 5ms/step - loss: 0.6981 - accuracy: 0.7569 - val_loss: 0.8443 - val_accuracy: 0.6913\n",
            "Epoch 33/50\n",
            "188/188 [==============================] - 1s 5ms/step - loss: 0.6759 - accuracy: 0.7687 - val_loss: 0.8541 - val_accuracy: 0.6853\n",
            "Epoch 34/50\n",
            "188/188 [==============================] - 1s 5ms/step - loss: 0.6506 - accuracy: 0.7727 - val_loss: 0.8578 - val_accuracy: 0.6907\n",
            "Epoch 35/50\n",
            "188/188 [==============================] - 1s 5ms/step - loss: 0.6533 - accuracy: 0.7794 - val_loss: 0.8481 - val_accuracy: 0.6907\n",
            "Epoch 36/50\n",
            "188/188 [==============================] - 1s 5ms/step - loss: 0.6381 - accuracy: 0.7806 - val_loss: 0.8129 - val_accuracy: 0.7120\n",
            "Epoch 37/50\n",
            "188/188 [==============================] - 1s 5ms/step - loss: 0.6144 - accuracy: 0.7849 - val_loss: 0.8166 - val_accuracy: 0.7113\n",
            "Epoch 38/50\n",
            "188/188 [==============================] - 1s 6ms/step - loss: 0.6251 - accuracy: 0.7866 - val_loss: 0.8262 - val_accuracy: 0.7013\n",
            "Epoch 39/50\n",
            "188/188 [==============================] - 1s 6ms/step - loss: 0.6059 - accuracy: 0.7936 - val_loss: 0.8112 - val_accuracy: 0.7080\n",
            "Epoch 40/50\n",
            "188/188 [==============================] - 1s 7ms/step - loss: 0.5958 - accuracy: 0.7981 - val_loss: 0.8211 - val_accuracy: 0.7113\n",
            "Epoch 41/50\n",
            "188/188 [==============================] - 1s 7ms/step - loss: 0.5784 - accuracy: 0.8017 - val_loss: 0.8175 - val_accuracy: 0.7093\n",
            "Epoch 42/50\n",
            "188/188 [==============================] - 1s 7ms/step - loss: 0.5585 - accuracy: 0.8087 - val_loss: 0.7939 - val_accuracy: 0.7220\n",
            "Epoch 43/50\n",
            "188/188 [==============================] - 1s 5ms/step - loss: 0.5491 - accuracy: 0.8166 - val_loss: 0.8301 - val_accuracy: 0.7067\n",
            "Epoch 44/50\n",
            "188/188 [==============================] - 1s 5ms/step - loss: 0.5482 - accuracy: 0.8106 - val_loss: 0.8108 - val_accuracy: 0.7193\n",
            "Epoch 45/50\n",
            "188/188 [==============================] - 1s 5ms/step - loss: 0.5466 - accuracy: 0.8116 - val_loss: 0.8103 - val_accuracy: 0.7107\n",
            "Epoch 46/50\n",
            "188/188 [==============================] - 1s 5ms/step - loss: 0.5296 - accuracy: 0.8212 - val_loss: 0.8041 - val_accuracy: 0.7113\n",
            "Epoch 47/50\n",
            "188/188 [==============================] - 1s 5ms/step - loss: 0.5337 - accuracy: 0.8137 - val_loss: 0.8289 - val_accuracy: 0.7093\n",
            "Epoch 48/50\n",
            "188/188 [==============================] - 1s 5ms/step - loss: 0.5097 - accuracy: 0.8222 - val_loss: 0.7900 - val_accuracy: 0.7207\n",
            "Epoch 49/50\n",
            "188/188 [==============================] - 1s 5ms/step - loss: 0.5024 - accuracy: 0.8314 - val_loss: 0.7992 - val_accuracy: 0.7160\n",
            "Epoch 50/50\n",
            "188/188 [==============================] - 1s 5ms/step - loss: 0.5041 - accuracy: 0.8226 - val_loss: 0.7867 - val_accuracy: 0.7347\n"
          ]
        }
      ]
    },
    {
      "cell_type": "code",
      "source": [
        "# plot accuracy and error as a function of the epochs\n",
        "plot_history(history)\n",
        "plt.savefig(\"Model-2 plot\")"
      ],
      "metadata": {
        "colab": {
          "base_uri": "https://localhost:8080/",
          "height": 486
        },
        "id": "o0cdR3qmeSXb",
        "outputId": "3e9867d6-96f7-40c0-dadd-ea4896714528"
      },
      "execution_count": null,
      "outputs": [
        {
          "output_type": "display_data",
          "data": {
            "text/plain": [
              "<Figure size 640x480 with 2 Axes>"
            ],
            "image/png": "[encoded data removed]"
          },
          "metadata": {}
        }
      ]
    },
    {
      "cell_type": "code",
      "source": [
        "# evaluate model on Test Set\n",
        "test_loss, test_acc = model_cnn.evaluate(X_test, y_test, verbose=2)\n",
        "print('\\nTest accuracy:', test_acc)"
      ],
      "metadata": {
        "colab": {
          "base_uri": "https://localhost:8080/"
        },
        "id": "QD7HoEAXhbGC",
        "outputId": "5791da3d-5f82-49a9-947a-f8529c97e229"
      },
      "execution_count": null,
      "outputs": [
        {
          "output_type": "stream",
          "name": "stdout",
          "text": [
            "79/79 - 0s - loss: 0.7832 - accuracy: 0.7395 - 187ms/epoch - 2ms/step\n",
            "\n",
            "Test accuracy: 0.7394958138465881\n"
          ]
        }
      ]
    },
    {
      "cell_type": "code",
      "source": [
        "model_cnn.save(\"Music_Genre_10_CNN\")"
      ],
      "metadata": {
        "colab": {
          "base_uri": "https://localhost:8080/"
        },
        "id": "FvfAZSYNhfMv",
        "outputId": "8303110c-39b4-435e-dd36-897be34a341e"
      },
      "execution_count": null,
      "outputs": [
        {
          "output_type": "stream",
          "name": "stderr",
          "text": [
            "WARNING:absl:Found untraced functions such as _jit_compiled_convolution_op, _jit_compiled_convolution_op, _jit_compiled_convolution_op, _update_step_xla while saving (showing 4 of 4). These functions will not be directly callable after loading.\n"
          ]
        }
      ]
    },
    {
      "cell_type": "code",
      "source": [
        "model_cnn.save(\"Music_Genre_10_CNN.h5\")"
      ],
      "metadata": {
        "id": "uaT-mMXnhj74"
      },
      "execution_count": null,
      "outputs": []
    },
    {
      "cell_type": "code",
      "source": [
        "# It can be used to reconstruct the model identically.\n",
        "reconstructed_model = keras.models.load_model(\"Music_Genre_10_CNN.h5\")"
      ],
      "metadata": {
        "id": "b7Pt31i9hnwR"
      },
      "execution_count": null,
      "outputs": []
    },
    {
      "cell_type": "markdown",
      "source": [
        "Prediction on Test Set\n"
      ],
      "metadata": {
        "id": "bQQu4OJhhwWq"
      }
    },
    {
      "cell_type": "code",
      "source": [
        "# pick a sample to predict from the test set\n",
        "X_to_predict = X_test[100]\n",
        "y_to_predict = y_test[100]"
      ],
      "metadata": {
        "id": "RBLWxqwBhqyV"
      },
      "execution_count": null,
      "outputs": []
    },
    {
      "cell_type": "code",
      "source": [
        "X_to_predict.shape\n"
      ],
      "metadata": {
        "colab": {
          "base_uri": "https://localhost:8080/"
        },
        "id": "o2Okr9jCh3DC",
        "outputId": "170686d2-2685-4593-f9b8-b85850b0ae2f"
      },
      "execution_count": null,
      "outputs": [
        {
          "output_type": "execute_result",
          "data": {
            "text/plain": [
              "(130, 13, 1)"
            ]
          },
          "metadata": {},
          "execution_count": 34
        }
      ]
    },
    {
      "cell_type": "code",
      "source": [
        "\n",
        "print(\"Real Genre:\", y_to_predict)\n"
      ],
      "metadata": {
        "colab": {
          "base_uri": "https://localhost:8080/"
        },
        "id": "EgwpXaP4h6Fk",
        "outputId": "0a94e740-7181-4733-d4ca-16123cd2c34d"
      },
      "execution_count": null,
      "outputs": [
        {
          "output_type": "stream",
          "name": "stdout",
          "text": [
            "Real Genre: 4\n"
          ]
        }
      ]
    },
    {
      "cell_type": "code",
      "source": [
        "# add a dimension to input data for sample - model.predict() expects a 4d array in this case\n",
        "X_to_predict = X_to_predict[np.newaxis, ...] # array shape (1, 130, 13, 1)\n"
      ],
      "metadata": {
        "id": "q8ZXc-beh9kN"
      },
      "execution_count": null,
      "outputs": []
    },
    {
      "cell_type": "code",
      "source": [
        "X_to_predict.shape\n"
      ],
      "metadata": {
        "colab": {
          "base_uri": "https://localhost:8080/"
        },
        "id": "H9b68bQXiA1_",
        "outputId": "f1834e74-df09-4162-a5ba-8739eccda526"
      },
      "execution_count": null,
      "outputs": [
        {
          "output_type": "execute_result",
          "data": {
            "text/plain": [
              "(1, 130, 13, 1)"
            ]
          },
          "metadata": {},
          "execution_count": 37
        }
      ]
    },
    {
      "cell_type": "code",
      "source": [
        "# perform prediction\n",
        "prediction = model_cnn.predict(X_to_predict)"
      ],
      "metadata": {
        "colab": {
          "base_uri": "https://localhost:8080/"
        },
        "id": "5CtlyyQYiDE9",
        "outputId": "e3b0f926-11b3-45dd-ba9c-c32704b4b641"
      },
      "execution_count": null,
      "outputs": [
        {
          "output_type": "stream",
          "name": "stdout",
          "text": [
            "1/1 [==============================] - 0s 295ms/step\n"
          ]
        }
      ]
    },
    {
      "cell_type": "code",
      "source": [
        "# get index with max value\n",
        "predicted_index = np.argmax(prediction, axis=1)\n",
        "\n",
        "print(\"Predicted Genre:\", int(predicted_index))\n"
      ],
      "metadata": {
        "colab": {
          "base_uri": "https://localhost:8080/"
        },
        "id": "ZNoHdV1tiFg3",
        "outputId": "870787f2-fed9-45cb-b97b-3eb267b02cc6"
      },
      "execution_count": null,
      "outputs": [
        {
          "output_type": "stream",
          "name": "stdout",
          "text": [
            "Predicted Genre: 4\n"
          ]
        }
      ]
    },
    {
      "cell_type": "code",
      "source": [
        "# pick a sample to predict from the test set\n",
        "X_to_predict = X_test[50]\n",
        "y_to_predict = y_test[50]\n",
        "\n",
        "print(\"Real Genre:\", y_to_predict)\n",
        "\n",
        "X_to_predict = X_to_predict[np.newaxis, ...]\n",
        "\n",
        "prediction = model_cnn.predict(X_to_predict)\n",
        "\n",
        "# get index with max value\n",
        "predicted_index = np.argmax(prediction, axis=1)\n",
        "\n",
        "print(\"Predicted Genre:\", int(predicted_index))"
      ],
      "metadata": {
        "colab": {
          "base_uri": "https://localhost:8080/"
        },
        "id": "9Gbqt3TOiLhW",
        "outputId": "ddaf51c6-55f4-432d-a71e-ad40f6f07630"
      },
      "execution_count": null,
      "outputs": [
        {
          "output_type": "stream",
          "name": "stdout",
          "text": [
            "Real Genre: 8\n",
            "1/1 [==============================] - 0s 25ms/step\n",
            "Predicted Genre: 4\n"
          ]
        }
      ]
    },
    {
      "cell_type": "code",
      "source": [
        "len(X_test)\n"
      ],
      "metadata": {
        "colab": {
          "base_uri": "https://localhost:8080/"
        },
        "id": "HMf5ppqEiOkF",
        "outputId": "cf0586e8-b580-4c7a-998d-89393bab6d8e"
      },
      "execution_count": null,
      "outputs": [
        {
          "output_type": "execute_result",
          "data": {
            "text/plain": [
              "2499"
            ]
          },
          "metadata": {},
          "execution_count": 41
        }
      ]
    },
    {
      "cell_type": "code",
      "source": [
        "for n in range(10):\n",
        "\n",
        "  i = random.randint(0,len(X_test))\n",
        "  # pick a sample to predict from the test set\n",
        "  X_to_predict = X_test[i]\n",
        "  y_to_predict = y_test[i]\n",
        "\n",
        "  print(\"\\nReal Genre:\", y_to_predict)\n",
        "\n",
        "  X_to_predict = X_to_predict[np.newaxis, ...]\n",
        "\n",
        "  prediction = model_cnn.predict(X_to_predict)\n",
        "\n",
        "  # get index with max value\n",
        "  predicted_index = np.argmax(prediction, axis=1)\n",
        "\n",
        "  print(\"Predicted Genre:\", int(predicted_index))\n"
      ],
      "metadata": {
        "colab": {
          "base_uri": "https://localhost:8080/"
        },
        "id": "NpsTz4mriS1K",
        "outputId": "69c7750d-e898-488b-e1fc-1c8c3978a135"
      },
      "execution_count": null,
      "outputs": [
        {
          "output_type": "stream",
          "name": "stdout",
          "text": [
            "\n",
            "Real Genre: 9\n",
            "1/1 [==============================] - 0s 27ms/step\n",
            "Predicted Genre: 3\n",
            "\n",
            "Real Genre: 4\n",
            "1/1 [==============================] - 0s 28ms/step\n",
            "Predicted Genre: 4\n",
            "\n",
            "Real Genre: 2\n",
            "1/1 [==============================] - 0s 36ms/step\n",
            "Predicted Genre: 2\n",
            "\n",
            "Real Genre: 0\n",
            "1/1 [==============================] - 0s 41ms/step\n",
            "Predicted Genre: 0\n",
            "\n",
            "Real Genre: 2\n",
            "1/1 [==============================] - 0s 41ms/step\n",
            "Predicted Genre: 5\n",
            "\n",
            "Real Genre: 1\n",
            "1/1 [==============================] - 0s 40ms/step\n",
            "Predicted Genre: 1\n",
            "\n",
            "Real Genre: 0\n",
            "1/1 [==============================] - 0s 28ms/step\n",
            "Predicted Genre: 0\n",
            "\n",
            "Real Genre: 8\n",
            "1/1 [==============================] - 0s 25ms/step\n",
            "Predicted Genre: 8\n",
            "\n",
            "Real Genre: 5\n",
            "1/1 [==============================] - 0s 27ms/step\n",
            "Predicted Genre: 5\n",
            "\n",
            "Real Genre: 1\n",
            "1/1 [==============================] - 0s 28ms/step\n",
            "Predicted Genre: 1\n"
          ]
        }
      ]
    },
    {
      "cell_type": "markdown",
      "source": [
        "Prediction on new Songs"
      ],
      "metadata": {
        "id": "MtOTDkWXiZqw"
      }
    },
    {
      "cell_type": "code",
      "source": [
        "\n",
        "# Audio files pre-processing\n",
        "def process_input(audio_file, track_duration):\n",
        "\n",
        "  SAMPLE_RATE = 22050\n",
        "  NUM_MFCC = 13\n",
        "  N_FTT=2048\n",
        "  HOP_LENGTH=512\n",
        "  TRACK_DURATION = track_duration # measured in seconds\n",
        "  SAMPLES_PER_TRACK = SAMPLE_RATE * TRACK_DURATION\n",
        "  NUM_SEGMENTS = 10\n",
        "\n",
        "  samples_per_segment = int(SAMPLES_PER_TRACK / NUM_SEGMENTS)\n",
        "  num_mfcc_vectors_per_segment = math.ceil(samples_per_segment / HOP_LENGTH)\n",
        "\n",
        "  signal, sample_rate = librosa.load(audio_file, sr=SAMPLE_RATE)\n",
        "\n",
        "  for d in range(10):\n",
        "\n",
        "    # calculate start and finish sample for current segment\n",
        "    start = samples_per_segment * d\n",
        "    finish = start + samples_per_segment\n",
        "\n",
        "    # extract mfcc\n",
        "    mfcc = librosa.feature.mfcc(y=signal[start:finish], sr=sample_rate, n_mfcc=NUM_MFCC, n_fft=N_FTT, hop_length=HOP_LENGTH)\n",
        "    mfcc = mfcc.T\n",
        "\n",
        "    return mfcc"
      ],
      "metadata": {
        "id": "c7d9Uqq8iVlB"
      },
      "execution_count": null,
      "outputs": []
    },
    {
      "cell_type": "code",
      "source": [
        "genre_dict = {0:\"hiphop\",1:\"country\",2:\"jazz\",3:\"classical\",4:\"metal\",5:\"pop\",6:\"rock\",7:\"blues\",8:\"reggae\",9:\"disco\"}\n"
      ],
      "metadata": {
        "id": "E775lkltlZrn"
      },
      "execution_count": null,
      "outputs": []
    },
    {
      "cell_type": "code",
      "source": [
        "new_input_mfcc = process_input(\"/content/1st Contact - Almost like the Blues.mp3\", 30)"
      ],
      "metadata": {
        "id": "xYE-TlCBll2K"
      },
      "execution_count": null,
      "outputs": []
    },
    {
      "cell_type": "code",
      "source": [
        "X_to_predict = new_input_mfcc[np.newaxis, ..., np.newaxis]\n",
        "X_to_predict.shape"
      ],
      "metadata": {
        "colab": {
          "base_uri": "https://localhost:8080/"
        },
        "id": "-fGgiMzelwj4",
        "outputId": "d5339878-7467-4d0f-807d-2c9ed0464cdf"
      },
      "execution_count": null,
      "outputs": [
        {
          "output_type": "execute_result",
          "data": {
            "text/plain": [
              "(1, 130, 13, 1)"
            ]
          },
          "metadata": {},
          "execution_count": 58
        }
      ]
    },
    {
      "cell_type": "code",
      "source": [
        "prediction = model_cnn.predict(X_to_predict)\n",
        "\n",
        "# get index with max value\n",
        "predicted_index = np.argmax(prediction, axis=1)\n",
        "\n",
        "print(\"Predicted Genre:\", genre_dict[int(predicted_index)])\n"
      ],
      "metadata": {
        "colab": {
          "base_uri": "https://localhost:8080/"
        },
        "id": "ZbicAkjEl7dG",
        "outputId": "d64f159d-c6ac-499c-d5c0-64a4b06f6381"
      },
      "execution_count": null,
      "outputs": [
        {
          "output_type": "stream",
          "name": "stdout",
          "text": [
            "1/1 [==============================] - 0s 25ms/step\n",
            "Predicted Genre: pop\n"
          ]
        }
      ]
    },
    {
      "cell_type": "code",
      "source": [
        "new_input_mfcc = process_input(\"/content/1st Contact - Almost like the Blues.mp3\", 30)\n"
      ],
      "metadata": {
        "id": "U1PXsmSIl-xs"
      },
      "execution_count": null,
      "outputs": []
    },
    {
      "cell_type": "code",
      "source": [
        "X_to_predict = new_input_mfcc[np.newaxis, ..., np.newaxis]\n",
        "X_to_predict.shape\n"
      ],
      "metadata": {
        "colab": {
          "base_uri": "https://localhost:8080/"
        },
        "id": "CIzGU221mKmN",
        "outputId": "483d5465-f41c-42e3-83e3-ab597f6e8afe"
      },
      "execution_count": null,
      "outputs": [
        {
          "output_type": "execute_result",
          "data": {
            "text/plain": [
              "(1, 130, 13, 1)"
            ]
          },
          "metadata": {},
          "execution_count": 61
        }
      ]
    },
    {
      "cell_type": "code",
      "source": [
        "\n",
        "prediction = model_cnn.predict(X_to_predict)\n",
        "\n",
        "# get index with max value\n",
        "predicted_index = np.argmax(prediction, axis=1)\n",
        "\n",
        "print(\"Predicted Genre:\", genre_dict[int(predicted_index)])\n"
      ],
      "metadata": {
        "colab": {
          "base_uri": "https://localhost:8080/"
        },
        "id": "ZJ4n1XXBmNTb",
        "outputId": "d180763e-7c45-4f71-90f5-aef1dcba7e5c"
      },
      "execution_count": null,
      "outputs": [
        {
          "output_type": "stream",
          "name": "stdout",
          "text": [
            "1/1 [==============================] - 0s 27ms/step\n",
            "Predicted Genre: pop\n"
          ]
        }
      ]
    },
    {
      "cell_type": "code",
      "source": [
        "# build the CNN\n",
        "model_cnn2 = keras.Sequential()\n",
        "\n",
        "# 1st conv layer\n",
        "model_cnn2.add(keras.layers.Conv2D(32, (3, 3), activation='relu', input_shape=input_shape))\n",
        "#model_cnn2.add(keras.layers.MaxPooling2D(2, padding='same'))\n",
        "#model_cnn.add(keras.layers.BatchNormalization())\n",
        "\n",
        "# 2nd conv layer\n",
        "model_cnn2.add(keras.layers.Conv2D(128, (3, 3), activation='relu'))\n",
        "#model_cnn2.add(keras.layers.MaxPooling2D(2, padding='same'))\n",
        "#model_cnn.add(keras.layers.BatchNormalization())\n",
        "model_cnn2.add(keras.layers.Dropout(0.3))\n",
        "\n",
        "# 3rd conv layer\n",
        "model_cnn2.add(keras.layers.Conv2D(128, (3, 3), activation='relu'))\n",
        "#model_cnn2.add(keras.layers.MaxPooling2D(2, padding='same'))\n",
        "#model_cnn.add(keras.layers.BatchNormalization())\n",
        "model_cnn2.add(keras.layers.Dropout(0.3))\n",
        "\n",
        "\n",
        "model_cnn2.add(keras.layers.GlobalAveragePooling2D())\n",
        "\n",
        "# flatten output and feed it into dense layer\n",
        "#model_cnn.add(keras.layers.Flatten())\n",
        "model_cnn2.add(keras.layers.Dense(512, activation='relu'))\n",
        "#model_cnn.add(keras.layers.Dropout(0.3))\n",
        "\n",
        "# output layer\n",
        "model_cnn2.add(keras.layers.Dense(10, activation='softmax'))\n"
      ],
      "metadata": {
        "id": "BeXEZfl1mQfh"
      },
      "execution_count": null,
      "outputs": []
    },
    {
      "cell_type": "code",
      "source": [
        "\n",
        "# compile model\n",
        "optimiser = keras.optimizers.Adam(learning_rate=0.001)\n",
        "model_cnn2.compile(optimizer=optimiser,\n",
        "              loss='sparse_categorical_crossentropy',\n",
        "              metrics=['accuracy'])\n"
      ],
      "metadata": {
        "id": "d9-oKjKP9XPO"
      },
      "execution_count": null,
      "outputs": []
    },
    {
      "cell_type": "code",
      "source": [
        "model_cnn2.summary()\n"
      ],
      "metadata": {
        "colab": {
          "base_uri": "https://localhost:8080/"
        },
        "id": "ixbgWlNZBKUH",
        "outputId": "dd02d10a-52c0-49e0-9984-99b54497795f"
      },
      "execution_count": null,
      "outputs": [
        {
          "output_type": "stream",
          "name": "stdout",
          "text": [
            "Model: \"sequential_6\"\n",
            "_________________________________________________________________\n",
            " Layer (type)                Output Shape              Param #   \n",
            "=================================================================\n",
            " conv2d_15 (Conv2D)          (None, 128, 11, 32)       320       \n",
            "                                                                 \n",
            " conv2d_16 (Conv2D)          (None, 126, 9, 128)       36992     \n",
            "                                                                 \n",
            " dropout_10 (Dropout)        (None, 126, 9, 128)       0         \n",
            "                                                                 \n",
            " conv2d_17 (Conv2D)          (None, 124, 7, 128)       147584    \n",
            "                                                                 \n",
            " dropout_11 (Dropout)        (None, 124, 7, 128)       0         \n",
            "                                                                 \n",
            " global_average_pooling2d_5   (None, 128)              0         \n",
            " (GlobalAveragePooling2D)                                        \n",
            "                                                                 \n",
            " dense_10 (Dense)            (None, 512)               66048     \n",
            "                                                                 \n",
            " dense_11 (Dense)            (None, 10)                5130      \n",
            "                                                                 \n",
            "=================================================================\n",
            "Total params: 256,074\n",
            "Trainable params: 256,074\n",
            "Non-trainable params: 0\n",
            "_________________________________________________________________\n"
          ]
        }
      ]
    },
    {
      "cell_type": "code",
      "source": [
        "\n",
        "# train model\n",
        "history = model_cnn2.fit(X_train, y_train, validation_data=(X_validation, y_validation), batch_size=32, epochs=40, verbose=2)"
      ],
      "metadata": {
        "colab": {
          "base_uri": "https://localhost:8080/"
        },
        "id": "UYE6-98NBQLG",
        "outputId": "609523be-373d-4873-f072-66984ddb1e0a"
      },
      "execution_count": null,
      "outputs": [
        {
          "output_type": "stream",
          "name": "stdout",
          "text": [
            "Epoch 1/40\n",
            "188/188 - 4s - loss: 1.6914 - accuracy: 0.3772 - val_loss: 1.4300 - val_accuracy: 0.4833 - 4s/epoch - 24ms/step\n",
            "Epoch 2/40\n",
            "188/188 - 2s - loss: 1.3019 - accuracy: 0.5304 - val_loss: 1.3344 - val_accuracy: 0.5307 - 2s/epoch - 13ms/step\n",
            "Epoch 3/40\n",
            "188/188 - 3s - loss: 1.1633 - accuracy: 0.5760 - val_loss: 1.0873 - val_accuracy: 0.6087 - 3s/epoch - 14ms/step\n",
            "Epoch 4/40\n",
            "188/188 - 3s - loss: 1.0079 - accuracy: 0.6453 - val_loss: 1.0113 - val_accuracy: 0.6400 - 3s/epoch - 13ms/step\n",
            "Epoch 5/40\n",
            "188/188 - 2s - loss: 0.8894 - accuracy: 0.6865 - val_loss: 0.8820 - val_accuracy: 0.6747 - 2s/epoch - 13ms/step\n",
            "Epoch 6/40\n",
            "188/188 - 2s - loss: 0.7861 - accuracy: 0.7310 - val_loss: 0.7809 - val_accuracy: 0.7227 - 2s/epoch - 13ms/step\n",
            "Epoch 7/40\n",
            "188/188 - 3s - loss: 0.7175 - accuracy: 0.7454 - val_loss: 0.8224 - val_accuracy: 0.7220 - 3s/epoch - 13ms/step\n",
            "Epoch 8/40\n",
            "188/188 - 3s - loss: 0.6614 - accuracy: 0.7664 - val_loss: 0.6781 - val_accuracy: 0.7600 - 3s/epoch - 13ms/step\n",
            "Epoch 9/40\n",
            "188/188 - 2s - loss: 0.6018 - accuracy: 0.7856 - val_loss: 0.7587 - val_accuracy: 0.7253 - 2s/epoch - 13ms/step\n",
            "Epoch 10/40\n",
            "188/188 - 3s - loss: 0.5435 - accuracy: 0.8099 - val_loss: 0.6774 - val_accuracy: 0.7720 - 3s/epoch - 13ms/step\n",
            "Epoch 11/40\n",
            "188/188 - 3s - loss: 0.4877 - accuracy: 0.8279 - val_loss: 0.5740 - val_accuracy: 0.7987 - 3s/epoch - 13ms/step\n",
            "Epoch 12/40\n",
            "188/188 - 3s - loss: 0.4470 - accuracy: 0.8401 - val_loss: 0.6032 - val_accuracy: 0.7967 - 3s/epoch - 13ms/step\n",
            "Epoch 13/40\n",
            "188/188 - 3s - loss: 0.4168 - accuracy: 0.8494 - val_loss: 0.5429 - val_accuracy: 0.8160 - 3s/epoch - 14ms/step\n",
            "Epoch 14/40\n",
            "188/188 - 3s - loss: 0.3665 - accuracy: 0.8694 - val_loss: 0.5553 - val_accuracy: 0.8220 - 3s/epoch - 14ms/step\n",
            "Epoch 15/40\n",
            "188/188 - 3s - loss: 0.3480 - accuracy: 0.8734 - val_loss: 0.5915 - val_accuracy: 0.8027 - 3s/epoch - 13ms/step\n",
            "Epoch 16/40\n",
            "188/188 - 2s - loss: 0.3062 - accuracy: 0.8898 - val_loss: 0.6210 - val_accuracy: 0.8013 - 2s/epoch - 13ms/step\n",
            "Epoch 17/40\n",
            "188/188 - 2s - loss: 0.2783 - accuracy: 0.9010 - val_loss: 0.6311 - val_accuracy: 0.8053 - 2s/epoch - 13ms/step\n",
            "Epoch 18/40\n",
            "188/188 - 3s - loss: 0.2591 - accuracy: 0.9110 - val_loss: 0.5698 - val_accuracy: 0.8140 - 3s/epoch - 14ms/step\n",
            "Epoch 19/40\n",
            "188/188 - 3s - loss: 0.2413 - accuracy: 0.9156 - val_loss: 0.4759 - val_accuracy: 0.8393 - 3s/epoch - 14ms/step\n",
            "Epoch 20/40\n",
            "188/188 - 3s - loss: 0.1934 - accuracy: 0.9316 - val_loss: 0.5897 - val_accuracy: 0.8340 - 3s/epoch - 13ms/step\n",
            "Epoch 21/40\n",
            "188/188 - 2s - loss: 0.1976 - accuracy: 0.9275 - val_loss: 0.4845 - val_accuracy: 0.8487 - 2s/epoch - 13ms/step\n",
            "Epoch 22/40\n",
            "188/188 - 2s - loss: 0.1804 - accuracy: 0.9378 - val_loss: 0.5279 - val_accuracy: 0.8333 - 2s/epoch - 13ms/step\n",
            "Epoch 23/40\n",
            "188/188 - 2s - loss: 0.1881 - accuracy: 0.9331 - val_loss: 0.4900 - val_accuracy: 0.8620 - 2s/epoch - 13ms/step\n",
            "Epoch 24/40\n",
            "188/188 - 3s - loss: 0.1709 - accuracy: 0.9416 - val_loss: 0.5713 - val_accuracy: 0.8513 - 3s/epoch - 14ms/step\n",
            "Epoch 25/40\n",
            "188/188 - 3s - loss: 0.1584 - accuracy: 0.9465 - val_loss: 0.6350 - val_accuracy: 0.8287 - 3s/epoch - 14ms/step\n",
            "Epoch 26/40\n",
            "188/188 - 3s - loss: 0.1672 - accuracy: 0.9443 - val_loss: 0.5187 - val_accuracy: 0.8427 - 3s/epoch - 13ms/step\n",
            "Epoch 27/40\n",
            "188/188 - 2s - loss: 0.1128 - accuracy: 0.9626 - val_loss: 0.5116 - val_accuracy: 0.8653 - 2s/epoch - 13ms/step\n",
            "Epoch 28/40\n",
            "188/188 - 3s - loss: 0.1006 - accuracy: 0.9628 - val_loss: 0.5827 - val_accuracy: 0.8440 - 3s/epoch - 13ms/step\n",
            "Epoch 29/40\n",
            "188/188 - 3s - loss: 0.1069 - accuracy: 0.9628 - val_loss: 0.5687 - val_accuracy: 0.8593 - 3s/epoch - 14ms/step\n",
            "Epoch 30/40\n",
            "188/188 - 3s - loss: 0.1452 - accuracy: 0.9505 - val_loss: 0.4775 - val_accuracy: 0.8680 - 3s/epoch - 14ms/step\n",
            "Epoch 31/40\n",
            "188/188 - 3s - loss: 0.1104 - accuracy: 0.9608 - val_loss: 0.5637 - val_accuracy: 0.8447 - 3s/epoch - 13ms/step\n",
            "Epoch 32/40\n",
            "188/188 - 3s - loss: 0.1095 - accuracy: 0.9610 - val_loss: 0.5486 - val_accuracy: 0.8487 - 3s/epoch - 13ms/step\n",
            "Epoch 33/40\n",
            "188/188 - 3s - loss: 0.0885 - accuracy: 0.9703 - val_loss: 0.5406 - val_accuracy: 0.8600 - 3s/epoch - 13ms/step\n",
            "Epoch 34/40\n",
            "188/188 - 3s - loss: 0.0615 - accuracy: 0.9807 - val_loss: 0.4823 - val_accuracy: 0.8827 - 3s/epoch - 13ms/step\n",
            "Epoch 35/40\n",
            "188/188 - 3s - loss: 0.1083 - accuracy: 0.9626 - val_loss: 0.6466 - val_accuracy: 0.8360 - 3s/epoch - 13ms/step\n",
            "Epoch 36/40\n",
            "188/188 - 2s - loss: 0.1062 - accuracy: 0.9603 - val_loss: 0.5637 - val_accuracy: 0.8547 - 2s/epoch - 13ms/step\n",
            "Epoch 37/40\n",
            "188/188 - 2s - loss: 0.1260 - accuracy: 0.9576 - val_loss: 0.5151 - val_accuracy: 0.8760 - 2s/epoch - 13ms/step\n",
            "Epoch 38/40\n",
            "188/188 - 3s - loss: 0.0794 - accuracy: 0.9723 - val_loss: 0.5759 - val_accuracy: 0.8653 - 3s/epoch - 14ms/step\n",
            "Epoch 39/40\n",
            "188/188 - 3s - loss: 0.0633 - accuracy: 0.9803 - val_loss: 0.5998 - val_accuracy: 0.8567 - 3s/epoch - 14ms/step\n",
            "Epoch 40/40\n",
            "188/188 - 3s - loss: 0.0853 - accuracy: 0.9722 - val_loss: 0.5126 - val_accuracy: 0.8780 - 3s/epoch - 14ms/step\n"
          ]
        }
      ]
    },
    {
      "cell_type": "code",
      "source": [
        "# plot accuracy and error as a function of the epochs\n",
        "plot_history(history)\n",
        "plt.savefig(\"Model-3 plot\")"
      ],
      "metadata": {
        "colab": {
          "base_uri": "https://localhost:8080/",
          "height": 486
        },
        "id": "Do8nErc5BjBX",
        "outputId": "982d2453-8031-4966-dc97-823503edbd1a"
      },
      "execution_count": null,
      "outputs": [
        {
          "output_type": "display_data",
          "data": {
            "text/plain": [
              "<Figure size 640x480 with 2 Axes>"
            ],
            "image/png": "[encoded data removed]"
          },
          "metadata": {}
        }
      ]
    },
    {
      "cell_type": "code",
      "source": [
        "# evaluate model on Test Set\n",
        "test_loss, test_acc = model_cnn2.evaluate(X_test, y_test, verbose=2)\n",
        "print('\\nTest accuracy:', test_acc)"
      ],
      "metadata": {
        "colab": {
          "base_uri": "https://localhost:8080/"
        },
        "id": "ZMrhdLytF0PJ",
        "outputId": "4e967134-6a77-4285-d02d-b2d64fcbe8a4"
      },
      "execution_count": null,
      "outputs": [
        {
          "output_type": "stream",
          "name": "stdout",
          "text": [
            "79/79 - 0s - loss: 0.5694 - accuracy: 0.8667 - 354ms/epoch - 4ms/step\n",
            "\n",
            "Test accuracy: 0.866746723651886\n"
          ]
        }
      ]
    },
    {
      "cell_type": "code",
      "source": [],
      "metadata": {
        "id": "9otPzMnnF8Vy"
      },
      "execution_count": null,
      "outputs": []
    }
  ]
}