{
  "nbformat": 4,
  "nbformat_minor": 0,
  "metadata": {
    "colab": {
      "provenance": []
    },
    "kernelspec": {
      "name": "python3",
      "display_name": "Python 3"
    },
    "language_info": {
      "name": "python"
    }
  },
  "cells": [
    {
      "cell_type": "code",
      "execution_count": null,
      "metadata": {
        "colab": {
          "base_uri": "https://localhost:8080/"
        },
        "id": "r0lMtrrtT-8o",
        "outputId": "4bd71f8b-45b0-4a36-9bda-733b9d43ea2d"
      },
      "outputs": [
        {
          "output_type": "stream",
          "name": "stdout",
          "text": [
            "Drive already mounted at /content/drive; to attempt to forcibly remount, call drive.mount(\"/content/drive\", force_remount=True).\n"
          ]
        }
      ],
      "source": [
        "from google.colab import drive\n",
        "drive.mount('/content/drive')\n"
      ]
    },
    {
      "cell_type": "code",
      "source": [
        "import json\n",
        "import numpy as np\n",
        "from sklearn.model_selection import train_test_split\n",
        "import tensorflow.keras as keras\n",
        "\n",
        "import matplotlib.pyplot as plt\n",
        "import random\n",
        "\n",
        "import librosa\n",
        "import math"
      ],
      "metadata": {
        "id": "b55Se-RaUH2g"
      },
      "execution_count": null,
      "outputs": []
    },
    {
      "cell_type": "code",
      "source": [
        "# path to json\n",
        "DATA_PATH = \"/content/drive/MyDrive/datasets/Data/genres_original/data_10.json\""
      ],
      "metadata": {
        "id": "-cSWgKy9Ud9M"
      },
      "execution_count": null,
      "outputs": []
    },
    {
      "cell_type": "code",
      "source": [
        "\n",
        "def load_data(data_path):\n",
        "\n",
        "    with open(data_path, \"r\") as f:\n",
        "        data = json.load(f)\n",
        "\n",
        "    # convert lists to numpy arrays\n",
        "    X = np.array(data[\"mfcc\"])\n",
        "    y = np.array(data[\"labels\"])\n",
        "\n",
        "    print(\"Data succesfully loaded!\")\n",
        "\n",
        "    return  X, y\n"
      ],
      "metadata": {
        "id": "YeVWLi9qUrIW"
      },
      "execution_count": null,
      "outputs": []
    },
    {
      "cell_type": "code",
      "source": [
        "# load data\n",
        "X, y = load_data(DATA_PATH)"
      ],
      "metadata": {
        "colab": {
          "base_uri": "https://localhost:8080/"
        },
        "id": "1G030b5uUtk4",
        "outputId": "5be1cea9-d8f0-4f67-8c1d-d4b2fe1ef2a9"
      },
      "execution_count": null,
      "outputs": [
        {
          "output_type": "stream",
          "name": "stdout",
          "text": [
            "Data succesfully loaded!\n"
          ]
        }
      ]
    },
    {
      "cell_type": "code",
      "source": [
        "# create train/test split\n",
        "X_train, X_test, y_train, y_test = train_test_split(X, y, test_size=0.3)"
      ],
      "metadata": {
        "id": "MV89xmkEUv2x"
      },
      "execution_count": null,
      "outputs": []
    },
    {
      "cell_type": "code",
      "source": [
        "# create train, validation and test split\n",
        "X_train, X_test, y_train, y_test = train_test_split(X, y, test_size=0.25)\n",
        "X_train, X_validation, y_train, y_validation = train_test_split(X_train, y_train, test_size=0.2)\n",
        "\n",
        "# add an axis to input sets\n",
        "X_train = X_train[..., np.newaxis]\n",
        "X_validation = X_validation[..., np.newaxis]\n",
        "X_test = X_test[..., np.newaxis]"
      ],
      "metadata": {
        "id": "Mb6MWVRcVCN5"
      },
      "execution_count": null,
      "outputs": []
    },
    {
      "cell_type": "code",
      "source": [
        "X_train.shape\n"
      ],
      "metadata": {
        "colab": {
          "base_uri": "https://localhost:8080/"
        },
        "id": "Q7OPmo5ZVjJ_",
        "outputId": "198a0201-f5ae-4e0b-e7be-35a533d2c528"
      },
      "execution_count": null,
      "outputs": [
        {
          "output_type": "execute_result",
          "data": {
            "text/plain": [
              "(5997, 130, 13, 1)"
            ]
          },
          "metadata": {},
          "execution_count": 30
        }
      ]
    },
    {
      "cell_type": "code",
      "source": [
        "input_shape = (X_train.shape[1], X_train.shape[2], 1)\n"
      ],
      "metadata": {
        "id": "scFX8L6vVl8f"
      },
      "execution_count": null,
      "outputs": []
    },
    {
      "cell_type": "code",
      "source": [
        "# build the CNN\n",
        "model_cnn = keras.Sequential()\n",
        "\n",
        "# 1st conv layer\n",
        "model_cnn.add(keras.layers.Conv2D(32, (3, 3), activation='relu', input_shape=input_shape))\n",
        "model_cnn.add(keras.layers.MaxPooling2D((3, 3), strides=(2, 2), padding='same'))\n",
        "model_cnn.add(keras.layers.BatchNormalization())\n",
        "\n",
        "# 2nd conv layer\n",
        "model_cnn.add(keras.layers.Conv2D(64, (3, 3), activation='relu'))\n",
        "model_cnn.add(keras.layers.MaxPooling2D((3, 3), strides=(2, 2), padding='same'))\n",
        "model_cnn.add(keras.layers.BatchNormalization())\n",
        "\n",
        "# 3rd conv layer\n",
        "model_cnn.add(keras.layers.Conv2D(128, (2, 2), activation='relu'))\n",
        "model_cnn.add(keras.layers.MaxPooling2D((2, 2), strides=(2, 2), padding='same'))\n",
        "model_cnn.add(keras.layers.BatchNormalization())\n",
        "\n",
        "# flatten output and feed it into dense layer\n",
        "model_cnn.add(keras.layers.Flatten())\n",
        "model_cnn.add(keras.layers.Dense(256, activation='relu'))\n",
        "model_cnn.add(keras.layers.Dropout(0.3))\n",
        "\n",
        "# output layer\n",
        "model_cnn.add(keras.layers.Dense(10, activation='softmax'))\n"
      ],
      "metadata": {
        "id": "paNYlSAHVolU"
      },
      "execution_count": null,
      "outputs": []
    },
    {
      "cell_type": "code",
      "source": [
        "\n",
        "# compile model\n",
        "optimiser = keras.optimizers.Adam(learning_rate=0.0001)\n",
        "model_cnn.compile(optimizer=optimiser,\n",
        "              loss='sparse_categorical_crossentropy',\n",
        "              metrics=['accuracy'])\n"
      ],
      "metadata": {
        "id": "6l61XMdwWA8C"
      },
      "execution_count": null,
      "outputs": []
    },
    {
      "cell_type": "code",
      "source": [
        "model_cnn.summary()\n"
      ],
      "metadata": {
        "colab": {
          "base_uri": "https://localhost:8080/"
        },
        "id": "VKiS9FJTZT5I",
        "outputId": "21cd06a6-0e69-4646-f7d2-28344231cb62"
      },
      "execution_count": null,
      "outputs": [
        {
          "output_type": "stream",
          "name": "stdout",
          "text": [
            "Model: \"sequential_13\"\n",
            "_________________________________________________________________\n",
            " Layer (type)                Output Shape              Param #   \n",
            "=================================================================\n",
            " conv2d_41 (Conv2D)          (None, 128, 11, 32)       320       \n",
            "                                                                 \n",
            " max_pooling2d_26 (MaxPoolin  (None, 64, 6, 32)        0         \n",
            " g2D)                                                            \n",
            "                                                                 \n",
            " batch_normalization_3 (Batc  (None, 64, 6, 32)        128       \n",
            " hNormalization)                                                 \n",
            "                                                                 \n",
            " conv2d_42 (Conv2D)          (None, 62, 4, 64)         18496     \n",
            "                                                                 \n",
            " max_pooling2d_27 (MaxPoolin  (None, 31, 2, 64)        0         \n",
            " g2D)                                                            \n",
            "                                                                 \n",
            " batch_normalization_4 (Batc  (None, 31, 2, 64)        256       \n",
            " hNormalization)                                                 \n",
            "                                                                 \n",
            " conv2d_43 (Conv2D)          (None, 30, 1, 128)        32896     \n",
            "                                                                 \n",
            " max_pooling2d_28 (MaxPoolin  (None, 15, 1, 128)       0         \n",
            " g2D)                                                            \n",
            "                                                                 \n",
            " batch_normalization_5 (Batc  (None, 15, 1, 128)       512       \n",
            " hNormalization)                                                 \n",
            "                                                                 \n",
            " flatten_1 (Flatten)         (None, 1920)              0         \n",
            "                                                                 \n",
            " dense_2 (Dense)             (None, 256)               491776    \n",
            "                                                                 \n",
            " dropout_27 (Dropout)        (None, 256)               0         \n",
            "                                                                 \n",
            " dense_3 (Dense)             (None, 10)                2570      \n",
            "                                                                 \n",
            "=================================================================\n",
            "Total params: 546,954\n",
            "Trainable params: 546,506\n",
            "Non-trainable params: 448\n",
            "_________________________________________________________________\n"
          ]
        }
      ]
    },
    {
      "cell_type": "code",
      "source": [
        "\n",
        "# train model\n",
        "history = model_cnn.fit(X_train, y_train, validation_data=(X_validation, y_validation), batch_size=32, epochs=50)"
      ],
      "metadata": {
        "colab": {
          "base_uri": "https://localhost:8080/"
        },
        "id": "Eb6XcK9PZWPQ",
        "outputId": "f76e9339-e5e3-45ce-8cd8-cfe69f200c11"
      },
      "execution_count": null,
      "outputs": [
        {
          "metadata": {
            "tags": null
          },
          "name": "stdout",
          "output_type": "stream",
          "text": [
            "Epoch 1/50\n",
            "188/188 [==============================] - 13s 60ms/step - loss: 1.8590 - accuracy: 0.3882 - val_loss: 1.4318 - val_accuracy: 0.4953\n",
            "Epoch 2/50\n",
            "188/188 [==============================] - 11s 59ms/step - loss: 1.2687 - accuracy: 0.5501 - val_loss: 1.1413 - val_accuracy: 0.6100\n",
            "Epoch 3/50\n",
            "188/188 [==============================] - 11s 58ms/step - loss: 1.0537 - accuracy: 0.6221 - val_loss: 1.0682 - val_accuracy: 0.6360\n",
            "Epoch 4/50\n",
            "188/188 [==============================] - 10s 54ms/step - loss: 0.8927 - accuracy: 0.6850 - val_loss: 0.9895 - val_accuracy: 0.6620\n",
            "Epoch 5/50\n",
            "188/188 [==============================] - 11s 58ms/step - loss: 0.7788 - accuracy: 0.7260 - val_loss: 0.9495 - val_accuracy: 0.6667\n",
            "Epoch 6/50\n",
            "188/188 [==============================] - 12s 65ms/step - loss: 0.6852 - accuracy: 0.7619 - val_loss: 0.9298 - val_accuracy: 0.6847\n",
            "Epoch 7/50\n",
            "188/188 [==============================] - 11s 59ms/step - loss: 0.5907 - accuracy: 0.8044 - val_loss: 0.9159 - val_accuracy: 0.6933\n",
            "Epoch 8/50\n",
            "188/188 [==============================] - 11s 58ms/step - loss: 0.5406 - accuracy: 0.8206 - val_loss: 0.8921 - val_accuracy: 0.7040\n",
            "Epoch 9/50\n",
            "188/188 [==============================] - 11s 57ms/step - loss: 0.4558 - accuracy: 0.8503 - val_loss: 0.8850 - val_accuracy: 0.6967\n",
            "Epoch 10/50\n",
            "188/188 [==============================] - 11s 58ms/step - loss: 0.4087 - accuracy: 0.8671 - val_loss: 0.8916 - val_accuracy: 0.7027\n",
            "Epoch 11/50\n",
            "188/188 [==============================] - 11s 60ms/step - loss: 0.3590 - accuracy: 0.8889 - val_loss: 0.8823 - val_accuracy: 0.7100\n",
            "Epoch 12/50\n",
            "188/188 [==============================] - 11s 59ms/step - loss: 0.3144 - accuracy: 0.9033 - val_loss: 0.8920 - val_accuracy: 0.7147\n",
            "Epoch 13/50\n",
            "188/188 [==============================] - 10s 56ms/step - loss: 0.2919 - accuracy: 0.9088 - val_loss: 0.8597 - val_accuracy: 0.7127\n",
            "Epoch 14/50\n",
            "188/188 [==============================] - 11s 59ms/step - loss: 0.2439 - accuracy: 0.9295 - val_loss: 0.8705 - val_accuracy: 0.7167\n",
            "Epoch 15/50\n",
            "188/188 [==============================] - 11s 60ms/step - loss: 0.2266 - accuracy: 0.9370 - val_loss: 0.8534 - val_accuracy: 0.7227\n",
            "Epoch 16/50\n",
            "188/188 [==============================] - 11s 61ms/step - loss: 0.2005 - accuracy: 0.9446 - val_loss: 0.8812 - val_accuracy: 0.7193\n",
            "Epoch 17/50\n",
            "188/188 [==============================] - 11s 59ms/step - loss: 0.1752 - accuracy: 0.9580 - val_loss: 0.8664 - val_accuracy: 0.7280\n",
            "Epoch 18/50\n",
            "188/188 [==============================] - 11s 59ms/step - loss: 0.1543 - accuracy: 0.9593 - val_loss: 0.8747 - val_accuracy: 0.7127\n",
            "Epoch 19/50\n",
            "188/188 [==============================] - 11s 59ms/step - loss: 0.1328 - accuracy: 0.9673 - val_loss: 0.9313 - val_accuracy: 0.7173\n",
            "Epoch 20/50\n",
            "188/188 [==============================] - 12s 66ms/step - loss: 0.1277 - accuracy: 0.9693 - val_loss: 0.8745 - val_accuracy: 0.7373\n",
            "Epoch 21/50\n",
            "188/188 [==============================] - 11s 60ms/step - loss: 0.1236 - accuracy: 0.9698 - val_loss: 0.9030 - val_accuracy: 0.7287\n",
            "Epoch 22/50\n",
            "188/188 [==============================] - 11s 60ms/step - loss: 0.0992 - accuracy: 0.9773 - val_loss: 0.9145 - val_accuracy: 0.7127\n",
            "Epoch 23/50\n",
            "188/188 [==============================] - 11s 58ms/step - loss: 0.0943 - accuracy: 0.9783 - val_loss: 0.8823 - val_accuracy: 0.7300\n",
            "Epoch 24/50\n",
            "188/188 [==============================] - 11s 57ms/step - loss: 0.0893 - accuracy: 0.9785 - val_loss: 0.9047 - val_accuracy: 0.7393\n",
            "Epoch 25/50\n",
            "188/188 [==============================] - 11s 60ms/step - loss: 0.0846 - accuracy: 0.9795 - val_loss: 0.9069 - val_accuracy: 0.7267\n",
            "Epoch 26/50\n",
            "188/188 [==============================] - 11s 60ms/step - loss: 0.0717 - accuracy: 0.9847 - val_loss: 0.9678 - val_accuracy: 0.7147\n",
            "Epoch 27/50\n",
            "188/188 [==============================] - 11s 60ms/step - loss: 0.0716 - accuracy: 0.9837 - val_loss: 0.9291 - val_accuracy: 0.7267\n",
            "Epoch 28/50\n",
            "188/188 [==============================] - 11s 59ms/step - loss: 0.0592 - accuracy: 0.9873 - val_loss: 0.9353 - val_accuracy: 0.7320\n",
            "Epoch 29/50\n",
            "188/188 [==============================] - 11s 59ms/step - loss: 0.0592 - accuracy: 0.9868 - val_loss: 0.9722 - val_accuracy: 0.7320\n",
            "Epoch 30/50\n",
            "188/188 [==============================] - 11s 59ms/step - loss: 0.0578 - accuracy: 0.9882 - val_loss: 1.0119 - val_accuracy: 0.7140\n",
            "Epoch 31/50\n",
            "188/188 [==============================] - 11s 60ms/step - loss: 0.0539 - accuracy: 0.9882 - val_loss: 0.9425 - val_accuracy: 0.7327\n",
            "Epoch 32/50\n",
            "188/188 [==============================] - 11s 59ms/step - loss: 0.0484 - accuracy: 0.9898 - val_loss: 0.9547 - val_accuracy: 0.7327\n",
            "Epoch 33/50\n",
            "188/188 [==============================] - 11s 56ms/step - loss: 0.0499 - accuracy: 0.9893 - val_loss: 0.9567 - val_accuracy: 0.7347\n",
            "Epoch 34/50\n",
            "188/188 [==============================] - 11s 58ms/step - loss: 0.0386 - accuracy: 0.9933 - val_loss: 1.0456 - val_accuracy: 0.7227\n",
            "Epoch 35/50\n",
            "188/188 [==============================] - 12s 66ms/step - loss: 0.0358 - accuracy: 0.9930 - val_loss: 1.0714 - val_accuracy: 0.7140\n",
            "Epoch 36/50\n",
            "188/188 [==============================] - 11s 60ms/step - loss: 0.0364 - accuracy: 0.9927 - val_loss: 0.9951 - val_accuracy: 0.7287\n",
            "Epoch 37/50\n",
            "188/188 [==============================] - 11s 60ms/step - loss: 0.0392 - accuracy: 0.9912 - val_loss: 1.0112 - val_accuracy: 0.7320\n",
            "Epoch 38/50\n",
            "188/188 [==============================] - 12s 62ms/step - loss: 0.0383 - accuracy: 0.9910 - val_loss: 1.0696 - val_accuracy: 0.7140\n",
            "Epoch 39/50\n",
            "188/188 [==============================] - 11s 59ms/step - loss: 0.0333 - accuracy: 0.9933 - val_loss: 1.0094 - val_accuracy: 0.7307\n",
            "Epoch 40/50\n",
            "188/188 [==============================] - 11s 59ms/step - loss: 0.0320 - accuracy: 0.9933 - val_loss: 1.1352 - val_accuracy: 0.7173\n",
            "Epoch 41/50\n",
            "188/188 [==============================] - 11s 59ms/step - loss: 0.0277 - accuracy: 0.9945 - val_loss: 1.0610 - val_accuracy: 0.7193\n",
            "Epoch 42/50\n",
            "188/188 [==============================] - 11s 60ms/step - loss: 0.0285 - accuracy: 0.9950 - val_loss: 1.0687 - val_accuracy: 0.7267\n",
            "Epoch 43/50\n",
            "188/188 [==============================] - 10s 54ms/step - loss: 0.0307 - accuracy: 0.9935 - val_loss: 1.1086 - val_accuracy: 0.7120\n",
            "Epoch 44/50\n",
            "188/188 [==============================] - 11s 57ms/step - loss: 0.0267 - accuracy: 0.9940 - val_loss: 1.0610 - val_accuracy: 0.7307\n",
            "Epoch 45/50\n",
            "188/188 [==============================] - 11s 60ms/step - loss: 0.0249 - accuracy: 0.9940 - val_loss: 1.1009 - val_accuracy: 0.7273\n",
            "Epoch 46/50\n",
            "188/188 [==============================] - 11s 60ms/step - loss: 0.0321 - accuracy: 0.9913 - val_loss: 1.1893 - val_accuracy: 0.7067\n",
            "Epoch 47/50\n",
            "188/188 [==============================] - 11s 60ms/step - loss: 0.0230 - accuracy: 0.9957 - val_loss: 1.0822 - val_accuracy: 0.7253\n",
            "Epoch 48/50\n",
            "188/188 [==============================] - 11s 59ms/step - loss: 0.0220 - accuracy: 0.9955 - val_loss: 1.1022 - val_accuracy: 0.7227\n",
            "Epoch 49/50\n",
            "188/188 [==============================] - 12s 64ms/step - loss: 0.0241 - accuracy: 0.9940 - val_loss: 1.0978 - val_accuracy: 0.7280\n",
            "Epoch 50/50\n",
            "188/188 [==============================] - 11s 58ms/step - loss: 0.0255 - accuracy: 0.9945 - val_loss: 1.1547 - val_accuracy: 0.7227\n"
          ]
        }
      ]
    },
    {
      "cell_type": "code",
      "source": [],
      "metadata": {
        "id": "xU3mlXe5ZabJ"
      },
      "execution_count": null,
      "outputs": []
    }
  ]
}