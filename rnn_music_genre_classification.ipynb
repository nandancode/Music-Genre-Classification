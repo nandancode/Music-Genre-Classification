{
  "nbformat": 4,
  "nbformat_minor": 0,
  "metadata": {
    "colab": {
      "provenance": []
    },
    "kernelspec": {
      "name": "python3",
      "display_name": "Python 3"
    },
    "language_info": {
      "name": "python"
    },
    "accelerator": "GPU",
    "gpuClass": "standard"
  },
  "cells": [
    {
      "cell_type": "code",
      "execution_count": null,
      "metadata": {
        "id": "wKtNp1ZkAiDm"
      },
      "outputs": [],
      "source": [
        "import json\n",
        "import numpy as np\n",
        "from sklearn.model_selection import train_test_split\n",
        "import tensorflow.keras as keras\n",
        "\n",
        "import matplotlib.pyplot as plt\n",
        "import random\n",
        "\n",
        "import librosa\n",
        "import math"
      ]
    },
    {
      "cell_type": "code",
      "source": [
        "from google.colab import drive\n",
        "drive.mount('/content/drive')"
      ],
      "metadata": {
        "colab": {
          "base_uri": "https://localhost:8080/"
        },
        "id": "dcRNgEKDHRyK",
        "outputId": "1e7d2115-50ca-4459-f21b-8fa95add6cff"
      },
      "execution_count": null,
      "outputs": [
        {
          "output_type": "stream",
          "name": "stdout",
          "text": [
            "Mounted at /content/drive\n"
          ]
        }
      ]
    },
    {
      "cell_type": "code",
      "source": [
        "# path to json\n",
        "DATA_PATH = \"/content/drive/MyDrive/datasets/Data/genres_original/data_10.json\""
      ],
      "metadata": {
        "id": "C1mY1bESGofH"
      },
      "execution_count": null,
      "outputs": []
    },
    {
      "cell_type": "code",
      "source": [
        "\n",
        "def load_data(data_path):\n",
        "\n",
        "    with open(data_path, \"r\") as f:\n",
        "        data = json.load(f)\n",
        "\n",
        "    # convert lists to numpy arrays\n",
        "    X = np.array(data[\"mfcc\"])\n",
        "    y = np.array(data[\"labels\"])\n",
        "\n",
        "    print(\"Data succesfully loaded!\")\n",
        "\n",
        "    return  X, y\n"
      ],
      "metadata": {
        "id": "qJDCpPrgHKJr"
      },
      "execution_count": null,
      "outputs": []
    },
    {
      "cell_type": "code",
      "source": [
        "# load data\n",
        "X, y = load_data(DATA_PATH)"
      ],
      "metadata": {
        "colab": {
          "base_uri": "https://localhost:8080/"
        },
        "id": "Oin-pSqCHM4m",
        "outputId": "d7960265-82ef-46ca-e36b-2b5bc4b7f21e"
      },
      "execution_count": null,
      "outputs": [
        {
          "output_type": "stream",
          "name": "stdout",
          "text": [
            "Data succesfully loaded!\n"
          ]
        }
      ]
    },
    {
      "cell_type": "code",
      "source": [
        "# create train, validation and test split\n",
        "X_train, X_test, y_train, y_test = train_test_split(X, y, test_size=0.25)\n",
        "X_train, X_validation, y_train, y_validation = train_test_split(X_train, y_train, test_size=0.2)\n",
        "\n",
        "# add an axis to input sets\n",
        "#X_train = X_train[..., np.newaxis]\n",
        "#X_validation = X_validation[..., np.newaxis]\n",
        "#X_test = X_test[..., np.newaxis]"
      ],
      "metadata": {
        "id": "0rKs9g_MHP5e"
      },
      "execution_count": null,
      "outputs": []
    },
    {
      "cell_type": "code",
      "source": [
        "input_shape = (X_train.shape[1], X_train.shape[2])\n"
      ],
      "metadata": {
        "id": "PVrE53JQIJor"
      },
      "execution_count": null,
      "outputs": []
    },
    {
      "cell_type": "code",
      "source": [
        "import tensorflow as tf\n",
        "\n",
        "model = tf.keras.Sequential()\n",
        "model.add(tf.keras.layers.LSTM(64, input_shape=input_shape, return_sequences=True))\n",
        "model.add(tf.keras.layers.LSTM(64))\n",
        "model.add(tf.keras.layers.Dense(64, activation=\"relu\"))\n",
        "model.add(tf.keras.layers.Dense(10, activation=\"softmax\"))"
      ],
      "metadata": {
        "id": "VPF4TNKxIMOi"
      },
      "execution_count": null,
      "outputs": []
    },
    {
      "cell_type": "code",
      "source": [
        "optimiser = tf.keras.optimizers.Adam(learning_rate=0.01)"
      ],
      "metadata": {
        "id": "ShBy6J2AJLTT"
      },
      "execution_count": null,
      "outputs": []
    },
    {
      "cell_type": "code",
      "source": [
        "model.compile(optimizer=optimiser, loss=\"sparse_categorical_crossentropy\", metrics=['accuracy'])"
      ],
      "metadata": {
        "id": "LtAIm-HoJqaM"
      },
      "execution_count": null,
      "outputs": []
    },
    {
      "cell_type": "code",
      "source": [
        "model.summary()"
      ],
      "metadata": {
        "colab": {
          "base_uri": "https://localhost:8080/"
        },
        "id": "A07ASX5rKDua",
        "outputId": "2d562326-dda3-490b-8a9e-cfa8cbf68ea1"
      },
      "execution_count": null,
      "outputs": [
        {
          "output_type": "stream",
          "name": "stdout",
          "text": [
            "Model: \"sequential\"\n",
            "_________________________________________________________________\n",
            " Layer (type)                Output Shape              Param #   \n",
            "=================================================================\n",
            " lstm (LSTM)                 (None, 130, 64)           19968     \n",
            "                                                                 \n",
            " lstm_1 (LSTM)               (None, 64)                33024     \n",
            "                                                                 \n",
            " dense (Dense)               (None, 64)                4160      \n",
            "                                                                 \n",
            " dense_1 (Dense)             (None, 10)                650       \n",
            "                                                                 \n",
            "=================================================================\n",
            "Total params: 57,802\n",
            "Trainable params: 57,802\n",
            "Non-trainable params: 0\n",
            "_________________________________________________________________\n"
          ]
        }
      ]
    },
    {
      "cell_type": "code",
      "source": [
        "\n",
        "# train model\n",
        "history = model.fit(X_train, y_train, validation_data=(X_validation, y_validation), batch_size=32, epochs=60, verbose=2)"
      ],
      "metadata": {
        "colab": {
          "base_uri": "https://localhost:8080/"
        },
        "id": "A1T_Y0dPKFnQ",
        "outputId": "b11f4c9c-19e2-4154-c845-5e03f68d799a"
      },
      "execution_count": null,
      "outputs": [
        {
          "output_type": "stream",
          "name": "stdout",
          "text": [
            "Epoch 1/60\n",
            "188/188 - 12s - loss: 1.7667 - accuracy: 0.3495 - val_loss: 1.6580 - val_accuracy: 0.4160 - 12s/epoch - 65ms/step\n",
            "Epoch 2/60\n",
            "188/188 - 2s - loss: 1.6415 - accuracy: 0.3937 - val_loss: 1.6025 - val_accuracy: 0.3980 - 2s/epoch - 10ms/step\n",
            "Epoch 3/60\n",
            "188/188 - 2s - loss: 1.4717 - accuracy: 0.4552 - val_loss: 1.4821 - val_accuracy: 0.4493 - 2s/epoch - 10ms/step\n",
            "Epoch 4/60\n",
            "188/188 - 3s - loss: 1.4226 - accuracy: 0.4706 - val_loss: 1.7764 - val_accuracy: 0.4447 - 3s/epoch - 15ms/step\n",
            "Epoch 5/60\n",
            "188/188 - 2s - loss: 1.3278 - accuracy: 0.5074 - val_loss: 1.3108 - val_accuracy: 0.5093 - 2s/epoch - 12ms/step\n",
            "Epoch 6/60\n",
            "188/188 - 2s - loss: 1.2204 - accuracy: 0.5616 - val_loss: 1.2696 - val_accuracy: 0.5340 - 2s/epoch - 11ms/step\n",
            "Epoch 7/60\n",
            "188/188 - 2s - loss: 1.1616 - accuracy: 0.5786 - val_loss: 1.2102 - val_accuracy: 0.5673 - 2s/epoch - 11ms/step\n",
            "Epoch 8/60\n",
            "188/188 - 2s - loss: 1.0874 - accuracy: 0.6031 - val_loss: 1.1519 - val_accuracy: 0.5867 - 2s/epoch - 10ms/step\n",
            "Epoch 9/60\n",
            "188/188 - 2s - loss: 1.0084 - accuracy: 0.6398 - val_loss: 1.1413 - val_accuracy: 0.5813 - 2s/epoch - 10ms/step\n",
            "Epoch 10/60\n",
            "188/188 - 3s - loss: 0.9797 - accuracy: 0.6428 - val_loss: 1.0793 - val_accuracy: 0.6133 - 3s/epoch - 14ms/step\n",
            "Epoch 11/60\n",
            "188/188 - 2s - loss: 0.9375 - accuracy: 0.6663 - val_loss: 1.1019 - val_accuracy: 0.6133 - 2s/epoch - 12ms/step\n",
            "Epoch 12/60\n",
            "188/188 - 2s - loss: 0.8810 - accuracy: 0.6843 - val_loss: 0.9741 - val_accuracy: 0.6540 - 2s/epoch - 10ms/step\n",
            "Epoch 13/60\n",
            "188/188 - 2s - loss: 0.8406 - accuracy: 0.7024 - val_loss: 1.0042 - val_accuracy: 0.6513 - 2s/epoch - 10ms/step\n",
            "Epoch 14/60\n",
            "188/188 - 2s - loss: 0.8252 - accuracy: 0.7119 - val_loss: 1.0172 - val_accuracy: 0.6487 - 2s/epoch - 10ms/step\n",
            "Epoch 15/60\n",
            "188/188 - 2s - loss: 0.8224 - accuracy: 0.7005 - val_loss: 1.0263 - val_accuracy: 0.6333 - 2s/epoch - 10ms/step\n",
            "Epoch 16/60\n",
            "188/188 - 2s - loss: 0.7691 - accuracy: 0.7215 - val_loss: 1.0556 - val_accuracy: 0.6307 - 2s/epoch - 12ms/step\n",
            "Epoch 17/60\n",
            "188/188 - 3s - loss: 0.7494 - accuracy: 0.7345 - val_loss: 1.0226 - val_accuracy: 0.6440 - 3s/epoch - 14ms/step\n",
            "Epoch 18/60\n",
            "188/188 - 2s - loss: 0.7101 - accuracy: 0.7457 - val_loss: 0.9545 - val_accuracy: 0.6847 - 2s/epoch - 11ms/step\n",
            "Epoch 19/60\n",
            "188/188 - 2s - loss: 0.6597 - accuracy: 0.7655 - val_loss: 0.9489 - val_accuracy: 0.6847 - 2s/epoch - 10ms/step\n",
            "Epoch 20/60\n",
            "188/188 - 2s - loss: 0.6392 - accuracy: 0.7734 - val_loss: 1.0524 - val_accuracy: 0.6547 - 2s/epoch - 10ms/step\n",
            "Epoch 21/60\n",
            "188/188 - 2s - loss: 0.6547 - accuracy: 0.7707 - val_loss: 0.9723 - val_accuracy: 0.6867 - 2s/epoch - 10ms/step\n",
            "Epoch 22/60\n",
            "188/188 - 2s - loss: 0.5804 - accuracy: 0.7981 - val_loss: 1.0043 - val_accuracy: 0.6853 - 2s/epoch - 11ms/step\n",
            "Epoch 23/60\n",
            "188/188 - 3s - loss: 0.6066 - accuracy: 0.7877 - val_loss: 0.9229 - val_accuracy: 0.6940 - 3s/epoch - 16ms/step\n",
            "Epoch 24/60\n",
            "188/188 - 2s - loss: 0.5464 - accuracy: 0.8061 - val_loss: 0.9124 - val_accuracy: 0.7100 - 2s/epoch - 10ms/step\n",
            "Epoch 25/60\n",
            "188/188 - 2s - loss: 0.5574 - accuracy: 0.8032 - val_loss: 0.9956 - val_accuracy: 0.7013 - 2s/epoch - 10ms/step\n",
            "Epoch 26/60\n",
            "188/188 - 2s - loss: 0.5360 - accuracy: 0.8092 - val_loss: 0.9535 - val_accuracy: 0.6873 - 2s/epoch - 10ms/step\n",
            "Epoch 27/60\n",
            "188/188 - 2s - loss: 0.5353 - accuracy: 0.8091 - val_loss: 0.9140 - val_accuracy: 0.7007 - 2s/epoch - 10ms/step\n",
            "Epoch 28/60\n",
            "188/188 - 2s - loss: 0.5044 - accuracy: 0.8256 - val_loss: 0.8599 - val_accuracy: 0.7147 - 2s/epoch - 10ms/step\n",
            "Epoch 29/60\n",
            "188/188 - 3s - loss: 0.5195 - accuracy: 0.8179 - val_loss: 0.9520 - val_accuracy: 0.6887 - 3s/epoch - 15ms/step\n",
            "Epoch 30/60\n",
            "188/188 - 2s - loss: 0.5146 - accuracy: 0.8221 - val_loss: 0.9599 - val_accuracy: 0.7053 - 2s/epoch - 11ms/step\n",
            "Epoch 31/60\n",
            "188/188 - 2s - loss: 0.4674 - accuracy: 0.8312 - val_loss: 0.8858 - val_accuracy: 0.7220 - 2s/epoch - 11ms/step\n",
            "Epoch 32/60\n",
            "188/188 - 2s - loss: 0.4827 - accuracy: 0.8281 - val_loss: 0.9113 - val_accuracy: 0.7267 - 2s/epoch - 10ms/step\n",
            "Epoch 33/60\n",
            "188/188 - 2s - loss: 0.4963 - accuracy: 0.8284 - val_loss: 0.9404 - val_accuracy: 0.7160 - 2s/epoch - 10ms/step\n",
            "Epoch 34/60\n",
            "188/188 - 2s - loss: 0.4484 - accuracy: 0.8414 - val_loss: 0.9439 - val_accuracy: 0.7153 - 2s/epoch - 12ms/step\n",
            "Epoch 35/60\n",
            "188/188 - 3s - loss: 0.4222 - accuracy: 0.8509 - val_loss: 0.9212 - val_accuracy: 0.7173 - 3s/epoch - 16ms/step\n",
            "Epoch 36/60\n",
            "188/188 - 2s - loss: 0.4281 - accuracy: 0.8508 - val_loss: 0.9685 - val_accuracy: 0.7133 - 2s/epoch - 11ms/step\n",
            "Epoch 37/60\n",
            "188/188 - 2s - loss: 0.3937 - accuracy: 0.8644 - val_loss: 0.9121 - val_accuracy: 0.7073 - 2s/epoch - 10ms/step\n",
            "Epoch 38/60\n",
            "188/188 - 2s - loss: 0.4142 - accuracy: 0.8554 - val_loss: 0.9399 - val_accuracy: 0.7267 - 2s/epoch - 10ms/step\n",
            "Epoch 39/60\n",
            "188/188 - 2s - loss: 0.4189 - accuracy: 0.8573 - val_loss: 0.9651 - val_accuracy: 0.7067 - 2s/epoch - 11ms/step\n",
            "Epoch 40/60\n",
            "188/188 - 2s - loss: 0.4394 - accuracy: 0.8471 - val_loss: 1.0127 - val_accuracy: 0.7047 - 2s/epoch - 10ms/step\n",
            "Epoch 41/60\n",
            "188/188 - 3s - loss: 0.4528 - accuracy: 0.8398 - val_loss: 0.9837 - val_accuracy: 0.6940 - 3s/epoch - 14ms/step\n",
            "Epoch 42/60\n",
            "188/188 - 2s - loss: 0.3744 - accuracy: 0.8718 - val_loss: 0.8741 - val_accuracy: 0.7467 - 2s/epoch - 12ms/step\n",
            "Epoch 43/60\n",
            "188/188 - 2s - loss: 0.3606 - accuracy: 0.8701 - val_loss: 0.9066 - val_accuracy: 0.7427 - 2s/epoch - 11ms/step\n",
            "Epoch 44/60\n",
            "188/188 - 2s - loss: 0.3688 - accuracy: 0.8756 - val_loss: 0.9599 - val_accuracy: 0.7127 - 2s/epoch - 10ms/step\n",
            "Epoch 45/60\n",
            "188/188 - 2s - loss: 0.3630 - accuracy: 0.8749 - val_loss: 1.0582 - val_accuracy: 0.7107 - 2s/epoch - 10ms/step\n",
            "Epoch 46/60\n",
            "188/188 - 2s - loss: 0.3249 - accuracy: 0.8839 - val_loss: 1.0273 - val_accuracy: 0.7347 - 2s/epoch - 10ms/step\n",
            "Epoch 47/60\n",
            "188/188 - 3s - loss: 0.3157 - accuracy: 0.8909 - val_loss: 1.1156 - val_accuracy: 0.7200 - 3s/epoch - 14ms/step\n",
            "Epoch 48/60\n",
            "188/188 - 3s - loss: 0.3360 - accuracy: 0.8806 - val_loss: 1.0040 - val_accuracy: 0.7213 - 3s/epoch - 14ms/step\n",
            "Epoch 49/60\n",
            "188/188 - 2s - loss: 0.3464 - accuracy: 0.8818 - val_loss: 0.9993 - val_accuracy: 0.7300 - 2s/epoch - 11ms/step\n",
            "Epoch 50/60\n",
            "188/188 - 2s - loss: 0.3263 - accuracy: 0.8843 - val_loss: 0.9940 - val_accuracy: 0.7293 - 2s/epoch - 11ms/step\n",
            "Epoch 51/60\n",
            "188/188 - 2s - loss: 0.3096 - accuracy: 0.8916 - val_loss: 0.9049 - val_accuracy: 0.7427 - 2s/epoch - 10ms/step\n",
            "Epoch 52/60\n",
            "188/188 - 2s - loss: 0.2730 - accuracy: 0.9021 - val_loss: 0.9954 - val_accuracy: 0.7393 - 2s/epoch - 10ms/step\n",
            "Epoch 53/60\n",
            "188/188 - 3s - loss: 0.3421 - accuracy: 0.8818 - val_loss: 1.0475 - val_accuracy: 0.7280 - 3s/epoch - 14ms/step\n",
            "Epoch 54/60\n",
            "188/188 - 2s - loss: 0.3032 - accuracy: 0.8951 - val_loss: 1.0247 - val_accuracy: 0.7360 - 2s/epoch - 13ms/step\n",
            "Epoch 55/60\n",
            "188/188 - 2s - loss: 0.3251 - accuracy: 0.8841 - val_loss: 1.1633 - val_accuracy: 0.7147 - 2s/epoch - 11ms/step\n",
            "Epoch 56/60\n",
            "188/188 - 2s - loss: 0.3336 - accuracy: 0.8848 - val_loss: 0.9489 - val_accuracy: 0.7420 - 2s/epoch - 10ms/step\n",
            "Epoch 57/60\n",
            "188/188 - 2s - loss: 0.3122 - accuracy: 0.8931 - val_loss: 1.0031 - val_accuracy: 0.7307 - 2s/epoch - 11ms/step\n",
            "Epoch 58/60\n",
            "188/188 - 2s - loss: 0.2595 - accuracy: 0.9078 - val_loss: 0.9937 - val_accuracy: 0.7340 - 2s/epoch - 10ms/step\n",
            "Epoch 59/60\n",
            "188/188 - 2s - loss: 0.2548 - accuracy: 0.9075 - val_loss: 1.0676 - val_accuracy: 0.7187 - 2s/epoch - 13ms/step\n",
            "Epoch 60/60\n",
            "188/188 - 3s - loss: 0.3512 - accuracy: 0.8778 - val_loss: 0.9905 - val_accuracy: 0.7500 - 3s/epoch - 13ms/step\n"
          ]
        }
      ]
    },
    {
      "cell_type": "code",
      "source": [
        "import tensorflow as tf\n",
        "\n",
        "model2 = tf.keras.Sequential()\n",
        "model2.add(tf.keras.layers.LSTM(64, input_shape=input_shape, return_sequences=True))\n",
        "model2.add(tf.keras.layers.LSTM(64))\n",
        "model2.add(tf.keras.layers.Dense(64, activation=\"relu\"))\n",
        "model2.add(tf.keras.layers.Dense(10, activation=\"softmax\"))"
      ],
      "metadata": {
        "id": "QSzW5gnrKdQW"
      },
      "execution_count": null,
      "outputs": []
    },
    {
      "cell_type": "code",
      "source": [
        "optimiser = tf.keras.optimizers.Adam(learning_rate=0.0001)"
      ],
      "metadata": {
        "id": "dxBJ9uiavLfB"
      },
      "execution_count": null,
      "outputs": []
    },
    {
      "cell_type": "code",
      "source": [
        "model2.compile(optimizer=optimiser, loss=\"sparse_categorical_crossentropy\", metrics=['accuracy'])"
      ],
      "metadata": {
        "id": "4zETqZ7UvVlA"
      },
      "execution_count": null,
      "outputs": []
    },
    {
      "cell_type": "code",
      "source": [
        "model2.summary()"
      ],
      "metadata": {
        "colab": {
          "base_uri": "https://localhost:8080/"
        },
        "id": "z2DLykF0wB7C",
        "outputId": "f473e68c-4c8b-4699-c626-2e7ca14e4425"
      },
      "execution_count": null,
      "outputs": [
        {
          "output_type": "stream",
          "name": "stdout",
          "text": [
            "Model: \"sequential_2\"\n",
            "_________________________________________________________________\n",
            " Layer (type)                Output Shape              Param #   \n",
            "=================================================================\n",
            " lstm_4 (LSTM)               (None, 130, 64)           19968     \n",
            "                                                                 \n",
            " lstm_5 (LSTM)               (None, 64)                33024     \n",
            "                                                                 \n",
            " dense_4 (Dense)             (None, 64)                4160      \n",
            "                                                                 \n",
            " dense_5 (Dense)             (None, 10)                650       \n",
            "                                                                 \n",
            "=================================================================\n",
            "Total params: 57,802\n",
            "Trainable params: 57,802\n",
            "Non-trainable params: 0\n",
            "_________________________________________________________________\n"
          ]
        }
      ]
    },
    {
      "cell_type": "code",
      "source": [
        "\n",
        "# train model\n",
        "history = model2.fit(X_train, y_train, validation_data=(X_validation, y_validation), batch_size=32, epochs=60, verbose=2)"
      ],
      "metadata": {
        "colab": {
          "base_uri": "https://localhost:8080/"
        },
        "id": "QeO9-8QawJF_",
        "outputId": "d0f5d9ec-d852-421a-f56b-37d5abb65956"
      },
      "execution_count": null,
      "outputs": [
        {
          "output_type": "stream",
          "name": "stdout",
          "text": [
            "Epoch 1/60\n",
            "188/188 - 6s - loss: 2.1630 - accuracy: 0.2498 - val_loss: 2.0046 - val_accuracy: 0.3233 - 6s/epoch - 35ms/step\n",
            "Epoch 2/60\n",
            "188/188 - 2s - loss: 1.8592 - accuracy: 0.3715 - val_loss: 1.7305 - val_accuracy: 0.4180 - 2s/epoch - 10ms/step\n",
            "Epoch 3/60\n",
            "188/188 - 3s - loss: 1.6230 - accuracy: 0.4524 - val_loss: 1.5553 - val_accuracy: 0.4807 - 3s/epoch - 14ms/step\n",
            "Epoch 4/60\n",
            "188/188 - 2s - loss: 1.4779 - accuracy: 0.4956 - val_loss: 1.4581 - val_accuracy: 0.4953 - 2s/epoch - 12ms/step\n",
            "Epoch 5/60\n",
            "188/188 - 2s - loss: 1.3873 - accuracy: 0.5213 - val_loss: 1.4031 - val_accuracy: 0.5113 - 2s/epoch - 11ms/step\n",
            "Epoch 6/60\n",
            "188/188 - 2s - loss: 1.3246 - accuracy: 0.5481 - val_loss: 1.3986 - val_accuracy: 0.5033 - 2s/epoch - 11ms/step\n",
            "Epoch 7/60\n",
            "188/188 - 2s - loss: 1.2904 - accuracy: 0.5509 - val_loss: 1.3520 - val_accuracy: 0.5140 - 2s/epoch - 10ms/step\n",
            "Epoch 8/60\n",
            "188/188 - 2s - loss: 1.2301 - accuracy: 0.5733 - val_loss: 1.3114 - val_accuracy: 0.5300 - 2s/epoch - 11ms/step\n",
            "Epoch 9/60\n",
            "188/188 - 2s - loss: 1.1932 - accuracy: 0.5913 - val_loss: 1.3162 - val_accuracy: 0.5400 - 2s/epoch - 13ms/step\n",
            "Epoch 10/60\n",
            "188/188 - 2s - loss: 1.1645 - accuracy: 0.5970 - val_loss: 1.2721 - val_accuracy: 0.5413 - 2s/epoch - 13ms/step\n",
            "Epoch 11/60\n",
            "188/188 - 2s - loss: 1.1269 - accuracy: 0.6160 - val_loss: 1.2594 - val_accuracy: 0.5440 - 2s/epoch - 11ms/step\n",
            "Epoch 12/60\n",
            "188/188 - 2s - loss: 1.0970 - accuracy: 0.6291 - val_loss: 1.2567 - val_accuracy: 0.5513 - 2s/epoch - 10ms/step\n",
            "Epoch 13/60\n",
            "188/188 - 2s - loss: 1.0668 - accuracy: 0.6335 - val_loss: 1.2572 - val_accuracy: 0.5507 - 2s/epoch - 11ms/step\n",
            "Epoch 14/60\n",
            "188/188 - 2s - loss: 1.0506 - accuracy: 0.6440 - val_loss: 1.2341 - val_accuracy: 0.5527 - 2s/epoch - 10ms/step\n",
            "Epoch 15/60\n",
            "188/188 - 2s - loss: 1.0342 - accuracy: 0.6477 - val_loss: 1.2347 - val_accuracy: 0.5600 - 2s/epoch - 13ms/step\n",
            "Epoch 16/60\n",
            "188/188 - 3s - loss: 1.0001 - accuracy: 0.6573 - val_loss: 1.2234 - val_accuracy: 0.5753 - 3s/epoch - 14ms/step\n",
            "Epoch 17/60\n",
            "188/188 - 2s - loss: 0.9847 - accuracy: 0.6618 - val_loss: 1.2174 - val_accuracy: 0.5733 - 2s/epoch - 11ms/step\n",
            "Epoch 18/60\n",
            "188/188 - 2s - loss: 0.9608 - accuracy: 0.6720 - val_loss: 1.2032 - val_accuracy: 0.5787 - 2s/epoch - 12ms/step\n",
            "Epoch 19/60\n",
            "188/188 - 2s - loss: 0.9587 - accuracy: 0.6705 - val_loss: 1.2176 - val_accuracy: 0.5793 - 2s/epoch - 11ms/step\n",
            "Epoch 20/60\n",
            "188/188 - 2s - loss: 0.9337 - accuracy: 0.6852 - val_loss: 1.2233 - val_accuracy: 0.5800 - 2s/epoch - 10ms/step\n",
            "Epoch 21/60\n",
            "188/188 - 2s - loss: 0.9117 - accuracy: 0.6930 - val_loss: 1.2083 - val_accuracy: 0.5880 - 2s/epoch - 12ms/step\n",
            "Epoch 22/60\n",
            "188/188 - 3s - loss: 0.8896 - accuracy: 0.6992 - val_loss: 1.1908 - val_accuracy: 0.5913 - 3s/epoch - 15ms/step\n",
            "Epoch 23/60\n",
            "188/188 - 2s - loss: 0.8709 - accuracy: 0.7030 - val_loss: 1.1829 - val_accuracy: 0.5880 - 2s/epoch - 10ms/step\n",
            "Epoch 24/60\n",
            "188/188 - 2s - loss: 0.8673 - accuracy: 0.7087 - val_loss: 1.2094 - val_accuracy: 0.5947 - 2s/epoch - 10ms/step\n",
            "Epoch 25/60\n",
            "188/188 - 2s - loss: 0.8519 - accuracy: 0.7155 - val_loss: 1.1903 - val_accuracy: 0.6000 - 2s/epoch - 11ms/step\n",
            "Epoch 26/60\n",
            "188/188 - 2s - loss: 0.8393 - accuracy: 0.7185 - val_loss: 1.1944 - val_accuracy: 0.5940 - 2s/epoch - 11ms/step\n",
            "Epoch 27/60\n",
            "188/188 - 2s - loss: 0.8340 - accuracy: 0.7204 - val_loss: 1.1916 - val_accuracy: 0.5953 - 2s/epoch - 12ms/step\n",
            "Epoch 28/60\n",
            "188/188 - 3s - loss: 0.8083 - accuracy: 0.7289 - val_loss: 1.1862 - val_accuracy: 0.5913 - 3s/epoch - 14ms/step\n",
            "Epoch 29/60\n",
            "188/188 - 2s - loss: 0.7869 - accuracy: 0.7355 - val_loss: 1.1907 - val_accuracy: 0.5953 - 2s/epoch - 11ms/step\n",
            "Epoch 30/60\n",
            "188/188 - 2s - loss: 0.7814 - accuracy: 0.7385 - val_loss: 1.1946 - val_accuracy: 0.6013 - 2s/epoch - 10ms/step\n",
            "Epoch 31/60\n",
            "188/188 - 2s - loss: 0.7650 - accuracy: 0.7449 - val_loss: 1.2031 - val_accuracy: 0.6033 - 2s/epoch - 11ms/step\n",
            "Epoch 32/60\n",
            "188/188 - 2s - loss: 0.7901 - accuracy: 0.7314 - val_loss: 1.2008 - val_accuracy: 0.5993 - 2s/epoch - 11ms/step\n",
            "Epoch 33/60\n",
            "188/188 - 2s - loss: 0.7575 - accuracy: 0.7470 - val_loss: 1.2071 - val_accuracy: 0.6107 - 2s/epoch - 11ms/step\n",
            "Epoch 34/60\n",
            "188/188 - 3s - loss: 0.7390 - accuracy: 0.7505 - val_loss: 1.1895 - val_accuracy: 0.6040 - 3s/epoch - 14ms/step\n",
            "Epoch 35/60\n",
            "188/188 - 2s - loss: 0.7135 - accuracy: 0.7647 - val_loss: 1.1969 - val_accuracy: 0.6147 - 2s/epoch - 11ms/step\n",
            "Epoch 36/60\n",
            "188/188 - 2s - loss: 0.7168 - accuracy: 0.7612 - val_loss: 1.2110 - val_accuracy: 0.6080 - 2s/epoch - 10ms/step\n",
            "Epoch 37/60\n",
            "188/188 - 2s - loss: 0.6977 - accuracy: 0.7689 - val_loss: 1.2219 - val_accuracy: 0.5987 - 2s/epoch - 10ms/step\n",
            "Epoch 38/60\n",
            "188/188 - 2s - loss: 0.6863 - accuracy: 0.7704 - val_loss: 1.1809 - val_accuracy: 0.6173 - 2s/epoch - 10ms/step\n",
            "Epoch 39/60\n",
            "188/188 - 2s - loss: 0.6882 - accuracy: 0.7747 - val_loss: 1.2019 - val_accuracy: 0.6167 - 2s/epoch - 10ms/step\n",
            "Epoch 40/60\n",
            "188/188 - 3s - loss: 0.6735 - accuracy: 0.7774 - val_loss: 1.1887 - val_accuracy: 0.6213 - 3s/epoch - 15ms/step\n",
            "Epoch 41/60\n",
            "188/188 - 2s - loss: 0.7026 - accuracy: 0.7615 - val_loss: 1.1959 - val_accuracy: 0.6213 - 2s/epoch - 12ms/step\n",
            "Epoch 42/60\n",
            "188/188 - 2s - loss: 0.6632 - accuracy: 0.7786 - val_loss: 1.2094 - val_accuracy: 0.6267 - 2s/epoch - 10ms/step\n",
            "Epoch 43/60\n",
            "188/188 - 2s - loss: 0.6457 - accuracy: 0.7874 - val_loss: 1.2071 - val_accuracy: 0.6193 - 2s/epoch - 10ms/step\n",
            "Epoch 44/60\n",
            "188/188 - 2s - loss: 0.6286 - accuracy: 0.7929 - val_loss: 1.1812 - val_accuracy: 0.6240 - 2s/epoch - 10ms/step\n",
            "Epoch 45/60\n",
            "188/188 - 2s - loss: 0.6238 - accuracy: 0.7939 - val_loss: 1.1999 - val_accuracy: 0.6187 - 2s/epoch - 11ms/step\n",
            "Epoch 46/60\n",
            "188/188 - 3s - loss: 0.6143 - accuracy: 0.7992 - val_loss: 1.1878 - val_accuracy: 0.6380 - 3s/epoch - 16ms/step\n",
            "Epoch 47/60\n",
            "188/188 - 2s - loss: 0.6253 - accuracy: 0.7869 - val_loss: 1.1938 - val_accuracy: 0.6253 - 2s/epoch - 12ms/step\n",
            "Epoch 48/60\n",
            "188/188 - 2s - loss: 0.6070 - accuracy: 0.7984 - val_loss: 1.1987 - val_accuracy: 0.6247 - 2s/epoch - 10ms/step\n",
            "Epoch 49/60\n",
            "188/188 - 2s - loss: 0.6237 - accuracy: 0.7942 - val_loss: 1.3257 - val_accuracy: 0.6087 - 2s/epoch - 11ms/step\n",
            "Epoch 50/60\n",
            "188/188 - 2s - loss: 0.6770 - accuracy: 0.7736 - val_loss: 1.1844 - val_accuracy: 0.6247 - 2s/epoch - 10ms/step\n",
            "Epoch 51/60\n",
            "188/188 - 2s - loss: 0.5826 - accuracy: 0.8057 - val_loss: 1.2212 - val_accuracy: 0.6313 - 2s/epoch - 10ms/step\n",
            "Epoch 52/60\n",
            "188/188 - 3s - loss: 0.5602 - accuracy: 0.8142 - val_loss: 1.2111 - val_accuracy: 0.6333 - 3s/epoch - 15ms/step\n",
            "Epoch 53/60\n",
            "188/188 - 2s - loss: 0.5476 - accuracy: 0.8239 - val_loss: 1.1950 - val_accuracy: 0.6427 - 2s/epoch - 12ms/step\n",
            "Epoch 54/60\n",
            "188/188 - 2s - loss: 0.5338 - accuracy: 0.8257 - val_loss: 1.2297 - val_accuracy: 0.6387 - 2s/epoch - 10ms/step\n",
            "Epoch 55/60\n",
            "188/188 - 2s - loss: 0.5299 - accuracy: 0.8281 - val_loss: 1.2198 - val_accuracy: 0.6427 - 2s/epoch - 11ms/step\n",
            "Epoch 56/60\n",
            "188/188 - 2s - loss: 0.5327 - accuracy: 0.8276 - val_loss: 1.2483 - val_accuracy: 0.6287 - 2s/epoch - 10ms/step\n",
            "Epoch 57/60\n",
            "188/188 - 2s - loss: 0.5229 - accuracy: 0.8294 - val_loss: 1.2247 - val_accuracy: 0.6427 - 2s/epoch - 10ms/step\n",
            "Epoch 58/60\n",
            "188/188 - 3s - loss: 0.5102 - accuracy: 0.8358 - val_loss: 1.2204 - val_accuracy: 0.6500 - 3s/epoch - 14ms/step\n",
            "Epoch 59/60\n",
            "188/188 - 2s - loss: 0.5048 - accuracy: 0.8358 - val_loss: 1.2317 - val_accuracy: 0.6487 - 2s/epoch - 13ms/step\n",
            "Epoch 60/60\n",
            "188/188 - 2s - loss: 0.5177 - accuracy: 0.8319 - val_loss: 1.2451 - val_accuracy: 0.6440 - 2s/epoch - 11ms/step\n"
          ]
        }
      ]
    },
    {
      "cell_type": "code",
      "source": [
        "\n",
        "def plot_history(history):\n",
        "\n",
        "    fig, axs = plt.subplots(2)\n",
        "\n",
        "    # create accuracy sublpot\n",
        "    axs[0].plot(history.history[\"accuracy\"], label=\"train accuracy\")\n",
        "    axs[0].plot(history.history[\"val_accuracy\"], label=\"test accuracy\")\n",
        "    axs[0].set_ylabel(\"Accuracy\")\n",
        "    axs[0].legend(loc=\"lower right\")\n",
        "    axs[0].set_title(\"Accuracy eval\")\n",
        "\n",
        "    # create error sublpot\n",
        "    axs[1].plot(history.history[\"loss\"], label=\"train error\")\n",
        "    axs[1].plot(history.history[\"val_loss\"], label=\"test error\")\n",
        "    axs[1].set_ylabel(\"Error\")\n",
        "    axs[1].set_xlabel(\"Epoch\")\n",
        "    axs[1].legend(loc=\"upper right\")\n",
        "    axs[1].set_title(\"Error eval\")\n",
        "    fig.tight_layout()\n",
        "    #plt.show()"
      ],
      "metadata": {
        "id": "mtHUo7NW4nGx"
      },
      "execution_count": null,
      "outputs": []
    },
    {
      "cell_type": "code",
      "source": [
        "# plot accuracy and error as a function of the epochs\n",
        "plot_history(history)\n",
        "plt.savefig(\"model4 plot\")"
      ],
      "metadata": {
        "colab": {
          "base_uri": "https://localhost:8080/",
          "height": 486
        },
        "id": "gMbVlkA8wRcv",
        "outputId": "cb2ed419-ec13-4cbd-b23c-7ef6f4063ed0"
      },
      "execution_count": null,
      "outputs": [
        {
          "output_type": "display_data",
          "data": {
            "text/plain": [
              "<Figure size 640x480 with 2 Axes>"
            ],
            "image/png": "[encoded data removed]"
          },
          "metadata": {}
        }
      ]
    },
    {
      "cell_type": "code",
      "source": [
        "# evaluate model on Test Set\n",
        "test_loss, test_acc = model2.evaluate(X_test, y_test, verbose=2)\n",
        "print('\\nTest accuracy:', test_acc)"
      ],
      "metadata": {
        "colab": {
          "base_uri": "https://localhost:8080/"
        },
        "id": "ru-2uDsW4YtW",
        "outputId": "b21e4d9e-718f-4885-83f9-d1f7c6fd4b44"
      },
      "execution_count": null,
      "outputs": [
        {
          "output_type": "stream",
          "name": "stdout",
          "text": [
            "79/79 - 1s - loss: 1.1545 - accuracy: 0.6559 - 601ms/epoch - 8ms/step\n",
            "\n",
            "Test accuracy: 0.6558623313903809\n"
          ]
        }
      ]
    },
    {
      "cell_type": "code",
      "source": [
        "model2.save(\"GTZAN_LSTM.h5\")"
      ],
      "metadata": {
        "id": "WvR7j_iA4vor"
      },
      "execution_count": null,
      "outputs": []
    },
    {
      "cell_type": "code",
      "source": [],
      "metadata": {
        "id": "ZPIDZnjZ5X_C"
      },
      "execution_count": null,
      "outputs": []
    }
  ]
}